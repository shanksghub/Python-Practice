{
  "nbformat": 4,
  "nbformat_minor": 0,
  "metadata": {
    "colab": {
      "name": "Untitled89.ipynb",
      "provenance": [],
      "authorship_tag": "ABX9TyOJlpkowY7lolNEwnNVxwNg",
      "include_colab_link": true
    },
    "kernelspec": {
      "name": "python3",
      "display_name": "Python 3"
    },
    "language_info": {
      "name": "python"
    }
  },
  "cells": [
    {
      "cell_type": "markdown",
      "metadata": {
        "id": "view-in-github",
        "colab_type": "text"
      },
      "source": [
        "<a href=\"https://colab.research.google.com/github/shanksghub/Python-Practice/blob/main/Fibonacci.ipynb\" target=\"_parent\"><img src=\"https://colab.research.google.com/assets/colab-badge.svg\" alt=\"Open In Colab\"/></a>"
      ]
    },
    {
      "cell_type": "code",
      "execution_count": null,
      "metadata": {
        "id": "6lClPLs_M0kr"
      },
      "outputs": [],
      "source": [
        ""
      ]
    },
    {
      "cell_type": "markdown",
      "source": [
        "**RECURSION Practice**"
      ],
      "metadata": {
        "id": "EvntwtTtoW2H"
      }
    },
    {
      "cell_type": "code",
      "source": [
        "def getnth_fibo(n):\n",
        "    if n == 2:\n",
        "        return 1\n",
        "    elif n == 1:\n",
        "        return 0\n",
        "    else:\n",
        "        return getnth_fibo(n - 1) + getnth_fibo(n - 2)"
      ],
      "metadata": {
        "id": "A4Q4ut3tKYT8"
      },
      "execution_count": null,
      "outputs": []
    },
    {
      "cell_type": "code",
      "source": [
        "# Memoization\n",
        "def getnth_fibo(n, memoize = {1: 5, 2: 8}):\n",
        "    if n in memoize:\n",
        "        return memoize[n]\n",
        "    else:\n",
        "        memoize[n] = getnth_fibo(n - 1, memoize) + getnth_fibo(n - 2, memoize)\n",
        "        return memoize[n]\n"
      ],
      "metadata": {
        "id": "4zlOqU6vKD8v"
      },
      "execution_count": null,
      "outputs": []
    },
    {
      "cell_type": "code",
      "source": [
        "getnth_fibo(4)"
      ],
      "metadata": {
        "id": "2K_i57rcKu4Y",
        "outputId": "4d2e1a16-91bb-4b6b-f0a1-7de155509c88",
        "colab": {
          "base_uri": "https://localhost:8080/"
        }
      },
      "execution_count": null,
      "outputs": [
        {
          "output_type": "execute_result",
          "data": {
            "text/plain": [
              "21"
            ]
          },
          "metadata": {},
          "execution_count": 7
        }
      ]
    },
    {
      "cell_type": "code",
      "source": [
        "\n",
        "def getnth_fibo(n):\n",
        "    lasttwo = [0, 1]\n",
        "    counter = 3\n",
        "    while counter <= n:\n",
        "        nextfib = lasttwo[0] + lasttwo[1]\n",
        "        lasttwo[0] = lasttwo[1]\n",
        "        lasttwo[1] = nextfib\n",
        "        counter += 1\n",
        "    return lasttwo[1] if n > 1 else lasttwo[0]\n",
        "\n",
        "\n",
        "number_of_fib = 8\n",
        "print(number_of_fib, \"th Fibonacci number is: \", getnth_fibo(number_of_fib))"
      ],
      "metadata": {
        "id": "TjYeT7CqKrAZ",
        "outputId": "58520f3c-9814-486f-e416-77c465a59644",
        "colab": {
          "base_uri": "https://localhost:8080/"
        }
      },
      "execution_count": null,
      "outputs": [
        {
          "output_type": "stream",
          "name": "stdout",
          "text": [
            "8 th Fibonacci number is:  13\n"
          ]
        }
      ]
    },
    {
      "cell_type": "code",
      "source": [
        "\n",
        "def getnth_fibo(n):\n",
        "    lasttwo = [5, 8]\n",
        "    counter = 3\n",
        "    while counter <= n:\n",
        "        nextfib = lasttwo[0] + lasttwo[1]\n",
        "        lasttwo[0] = lasttwo[1]\n",
        "        lasttwo[1] = nextfib\n",
        "        counter += 1\n",
        "    return lasttwo[1] if n > 1 else lasttwo[0]\n",
        "\n",
        "\n",
        "number_of_fib = 4\n",
        "print(number_of_fib, \"th Fibonacci number is: \", getnth_fibo(number_of_fib))"
      ],
      "metadata": {
        "id": "9E4ogjmqLIoP",
        "outputId": "feaaafde-185f-445d-c32f-332e485b6617",
        "colab": {
          "base_uri": "https://localhost:8080/"
        }
      },
      "execution_count": null,
      "outputs": [
        {
          "output_type": "stream",
          "name": "stdout",
          "text": [
            "4 th Fibonacci number is:  21\n"
          ]
        }
      ]
    },
    {
      "cell_type": "code",
      "source": [
        "# we use the function in itself recursively here.\n",
        "\n",
        "def get_nthfibo(n):\n",
        "    if n == 2:\n",
        "        return 1\n",
        "    elif n == 1:\n",
        "        return 0\n",
        "    else:\n",
        "        return get_nthfibo(n-1)+ get_nthfibo(n-2)\n",
        "        \n",
        "\n"
      ],
      "metadata": {
        "colab": {
          "base_uri": "https://localhost:8080/"
        },
        "id": "bYryc_LgoWNn",
        "outputId": "6c18e9a9-4ee9-4de9-a0c5-035ca3e35d66"
      },
      "execution_count": null,
      "outputs": [
        {
          "output_type": "execute_result",
          "data": {
            "text/plain": [
              "21"
            ]
          },
          "metadata": {},
          "execution_count": 3
        }
      ]
    }
  ]
}