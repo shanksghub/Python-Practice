{
  "nbformat": 4,
  "nbformat_minor": 0,
  "metadata": {
    "colab": {
      "name": "Untitled87.ipynb",
      "provenance": [],
      "authorship_tag": "ABX9TyPWtK3V0uCdNdvXi7DAz+SA",
      "include_colab_link": true
    },
    "kernelspec": {
      "name": "python3",
      "display_name": "Python 3"
    },
    "language_info": {
      "name": "python"
    }
  },
  "cells": [
    {
      "cell_type": "markdown",
      "metadata": {
        "id": "view-in-github",
        "colab_type": "text"
      },
      "source": [
        "<a href=\"https://colab.research.google.com/github/shanksghub/Python-Practice/blob/main/Python%20Practice.ipynb\" target=\"_parent\"><img src=\"https://colab.research.google.com/assets/colab-badge.svg\" alt=\"Open In Colab\"/></a>"
      ]
    },
    {
      "cell_type": "markdown",
      "source": [
        "**RECURSION Practice**"
      ],
      "metadata": {
        "id": "EvntwtTtoW2H"
      }
    },
    {
      "cell_type": "code",
      "source": [
        "# we use the function in itself recursively here.\n",
        "\n",
        "def get_nthfibo(n):\n",
        "    if n == 2:\n",
        "        return 1\n",
        "    elif n == 1:\n",
        "        return 0\n",
        "    else:\n",
        "        return get_nthfibo(n-1)+ get_nthfibo(n-2)\n",
        "        \n",
        "\n"
      ],
      "metadata": {
        "colab": {
          "base_uri": "https://localhost:8080/"
        },
        "id": "bYryc_LgoWNn",
        "outputId": "6c18e9a9-4ee9-4de9-a0c5-035ca3e35d66"
      },
      "execution_count": 3,
      "outputs": [
        {
          "output_type": "execute_result",
          "data": {
            "text/plain": [
              "21"
            ]
          },
          "metadata": {},
          "execution_count": 3
        }
      ]
    },
    {
      "cell_type": "markdown",
      "source": [
        "**Using range(0,9) and range(2,9)**"
      ],
      "metadata": {
        "id": "NC7yjnn0-RZh"
      }
    },
    {
      "cell_type": "code",
      "source": [
        "fibo_numbers = [0, 1]\n",
        "for i in range(2,9):\n",
        "    fibo_numbers.append(fibo_numbers[i-1]+fibo_numbers[i-2])"
      ],
      "metadata": {
        "id": "-sbKN7iZ9dL4"
      },
      "execution_count": 19,
      "outputs": []
    },
    {
      "cell_type": "code",
      "source": [
        "fibo_numbers"
      ],
      "metadata": {
        "colab": {
          "base_uri": "https://localhost:8080/"
        },
        "id": "45WuToMd-dNP",
        "outputId": "97c80b8b-71c5-4164-b7ba-b45183cba6ce"
      },
      "execution_count": 21,
      "outputs": [
        {
          "output_type": "execute_result",
          "data": {
            "text/plain": [
              "[0, 1, 1, 2, 3, 5, 8, 13, 21]"
            ]
          },
          "metadata": {},
          "execution_count": 21
        }
      ]
    },
    {
      "cell_type": "code",
      "source": [
        "fib0_numbers = [0, 1]\n",
        "for i in range(0,9):\n",
        "    fib0_numbers.append(fib0_numbers[i-1]+fib0_numbers[i-2])"
      ],
      "metadata": {
        "id": "1BiBSHly-f5p"
      },
      "execution_count": 24,
      "outputs": []
    },
    {
      "cell_type": "code",
      "source": [
        "fib0_numbers"
      ],
      "metadata": {
        "colab": {
          "base_uri": "https://localhost:8080/"
        },
        "id": "1h-uG2bp-j4I",
        "outputId": "8ae233da-0fad-4e80-c0f1-a70e7d7c8494"
      },
      "execution_count": 25,
      "outputs": [
        {
          "output_type": "execute_result",
          "data": {
            "text/plain": [
              "[0, 1, 1, 1, 1, 2, 2, 2, 3, 4, 4]"
            ]
          },
          "metadata": {},
          "execution_count": 25
        }
      ]
    },
    {
      "cell_type": "markdown",
      "source": [
        "list of fibo numbers"
      ],
      "metadata": {
        "id": "2wOXhcXOAH9o"
      }
    },
    {
      "cell_type": "code",
      "source": [
        "a = 0\n",
        "b = 1\n",
        "while b < 9:\n",
        "    a, b = b, a+b\n",
        "    print(a, b)"
      ],
      "metadata": {
        "colab": {
          "base_uri": "https://localhost:8080/"
        },
        "id": "8KJ8ohjlAHke",
        "outputId": "43159127-a8d8-429a-e83e-bb18e27f6520"
      },
      "execution_count": 38,
      "outputs": [
        {
          "output_type": "stream",
          "name": "stdout",
          "text": [
            "1 1\n",
            "1 2\n",
            "2 3\n",
            "3 5\n",
            "5 8\n",
            "8 13\n"
          ]
        }
      ]
    },
    {
      "cell_type": "markdown",
      "source": [
        "**List**"
      ],
      "metadata": {
        "id": "nq0L_YGfCY2v"
      }
    },
    {
      "cell_type": "code",
      "source": [
        "# Lists\n",
        "# constructed with brackets [] and\n",
        "# commas separate every element in the list.\n",
        "\n",
        "# Assign a list to an variable named example_list\n",
        "example_list = [1,2,3]\n",
        "\n",
        "#Lists can contain integers and different types of objects \n",
        "\n",
        "list_with_objects = ['strings',3.14, 9 ,'a','abc',9*8]\n",
        "\n",
        "# len tells us the number of elements in the list\n",
        "len(list_with_objects)\n"
      ],
      "metadata": {
        "colab": {
          "base_uri": "https://localhost:8080/"
        },
        "id": "LqWkEuH5-tsd",
        "outputId": "4189332a-665d-442b-a278-154685cbb381"
      },
      "execution_count": 30,
      "outputs": [
        {
          "output_type": "execute_result",
          "data": {
            "text/plain": [
              "6"
            ]
          },
          "metadata": {},
          "execution_count": 30
        }
      ]
    },
    {
      "cell_type": "code",
      "source": [
        "print(example_list)\n",
        "print(list_with_objects)\n",
        "len(list_with_objects)"
      ],
      "metadata": {
        "colab": {
          "base_uri": "https://localhost:8080/"
        },
        "id": "2sZCO9D9_rKP",
        "outputId": "f7ca3885-5a8c-4972-aeec-2620e03ca18e"
      },
      "execution_count": 34,
      "outputs": [
        {
          "output_type": "stream",
          "name": "stdout",
          "text": [
            "[1, 2, 3]\n",
            "['strings', 3.14, 9, 'a', 'abc', 72]\n"
          ]
        },
        {
          "output_type": "execute_result",
          "data": {
            "text/plain": [
              "6"
            ]
          },
          "metadata": {},
          "execution_count": 34
        }
      ]
    },
    {
      "cell_type": "markdown",
      "source": [
        "**Indexing and Slicing**\n"
      ],
      "metadata": {
        "id": "rpySWTkAAQ5p"
      }
    },
    {
      "cell_type": "code",
      "source": [
        "# Indexing and Slicing\n",
        "# Indexing and slicing work just like in strings. \n",
        "# Let's make a new list to remind ourselves of how this works:\n",
        "\n",
        "list = ['1','pqr','rst', 100, 99, 98]\n",
        "# Grab element at index 0\n",
        "list[0]\n",
        "list[2]\n",
        "list[3]"
      ],
      "metadata": {
        "colab": {
          "base_uri": "https://localhost:8080/"
        },
        "id": "fU4k-Sd_A1XX",
        "outputId": "5748a41e-1b32-48d0-fa6e-7e107f88bb14"
      },
      "execution_count": 41,
      "outputs": [
        {
          "output_type": "execute_result",
          "data": {
            "text/plain": [
              "100"
            ]
          },
          "metadata": {},
          "execution_count": 41
        }
      ]
    },
    {
      "cell_type": "code",
      "source": [
        "list[2]\n"
      ],
      "metadata": {
        "colab": {
          "base_uri": "https://localhost:8080/",
          "height": 35
        },
        "id": "nwSdVT9wBAml",
        "outputId": "ba4889b9-4b47-477b-bea6-a66fb98b010d"
      },
      "execution_count": 42,
      "outputs": [
        {
          "output_type": "execute_result",
          "data": {
            "application/vnd.google.colaboratory.intrinsic+json": {
              "type": "string"
            },
            "text/plain": [
              "'rst'"
            ]
          },
          "metadata": {},
          "execution_count": 42
        }
      ]
    },
    {
      "cell_type": "code",
      "source": [
        "list[3]"
      ],
      "metadata": {
        "colab": {
          "base_uri": "https://localhost:8080/"
        },
        "id": "5nBuQsZIBAtY",
        "outputId": "7e4b0910-b798-4511-ad95-6c056dc16755"
      },
      "execution_count": 43,
      "outputs": [
        {
          "output_type": "execute_result",
          "data": {
            "text/plain": [
              "100"
            ]
          },
          "metadata": {},
          "execution_count": 43
        }
      ]
    },
    {
      "cell_type": "code",
      "source": [
        "# Grab index 1 and everything past it\n",
        "list[1:]\n",
        "\n",
        "# Grab everything UP TO index 3\n",
        "list[:3]\n",
        "\n",
        "# Use + to concatenate strings\n",
        "list + ['concatenation']\n",
        "\n",
        "# original list remains the same\n",
        "list\n",
        "\n",
        "# To make change permanent reassign list\n",
        "\n",
        "# Reassign\n",
        "list = list + ['permanent list added here']\n",
        "list\n",
        "\n",
        "# we can multiply the number of times we want to multiple lists by using *\n",
        "# Making the list 4 times\n",
        "\n",
        "list * 2\n",
        "\n",
        "# using * doesn't change the list permanently\n",
        "list\n"
      ],
      "metadata": {
        "id": "13I-IXmJARHR"
      },
      "execution_count": null,
      "outputs": []
    },
    {
      "cell_type": "code",
      "source": [
        "# Grab index 1 and everything past it\n",
        "list[1:]\n",
        "\n"
      ],
      "metadata": {
        "colab": {
          "base_uri": "https://localhost:8080/"
        },
        "id": "qG9VQZ5nCA2e",
        "outputId": "5fe31d3d-8e59-4825-c615-cbbc81930a2b"
      },
      "execution_count": 44,
      "outputs": [
        {
          "output_type": "execute_result",
          "data": {
            "text/plain": [
              "['pqr', 'rst', 100, 99, 98]"
            ]
          },
          "metadata": {},
          "execution_count": 44
        }
      ]
    },
    {
      "cell_type": "code",
      "source": [
        "# Grab everything UP TO index 3\n",
        "list[:3]\n"
      ],
      "metadata": {
        "colab": {
          "base_uri": "https://localhost:8080/"
        },
        "id": "wjwWeA37CEi_",
        "outputId": "80fdfb6e-258d-40c3-ee49-302fb6ee4a1d"
      },
      "execution_count": 45,
      "outputs": [
        {
          "output_type": "execute_result",
          "data": {
            "text/plain": [
              "['1', 'pqr', 'rst']"
            ]
          },
          "metadata": {},
          "execution_count": 45
        }
      ]
    },
    {
      "cell_type": "code",
      "source": [
        "# Use + to concatenate strings\n",
        "list + ['concatenation']"
      ],
      "metadata": {
        "colab": {
          "base_uri": "https://localhost:8080/"
        },
        "id": "h7iLAefLCHwC",
        "outputId": "7530fb77-e504-4025-87ec-208a93340808"
      },
      "execution_count": 47,
      "outputs": [
        {
          "output_type": "execute_result",
          "data": {
            "text/plain": [
              "['1', 'pqr', 'rst', 100, 99, 98, 'concatenation']"
            ]
          },
          "metadata": {},
          "execution_count": 47
        }
      ]
    },
    {
      "cell_type": "code",
      "source": [
        "# original list remains the same\n",
        "list\n"
      ],
      "metadata": {
        "colab": {
          "base_uri": "https://localhost:8080/"
        },
        "id": "jVFleq5wCKeU",
        "outputId": "989ba949-32c1-4676-ad19-8ed7c5af8bdf"
      },
      "execution_count": 48,
      "outputs": [
        {
          "output_type": "execute_result",
          "data": {
            "text/plain": [
              "['1', 'pqr', 'rst', 100, 99, 98]"
            ]
          },
          "metadata": {},
          "execution_count": 48
        }
      ]
    },
    {
      "cell_type": "code",
      "source": [
        "# To make change permanent reassign list\n",
        "\n",
        "# Reassign\n",
        "list = list + ['permanent list added here']\n",
        "list\n"
      ],
      "metadata": {
        "colab": {
          "base_uri": "https://localhost:8080/"
        },
        "id": "JN_Y8fxbCM1s",
        "outputId": "633dd0b4-0998-49ed-d8ae-27ae1700b907"
      },
      "execution_count": 50,
      "outputs": [
        {
          "output_type": "execute_result",
          "data": {
            "text/plain": [
              "['1',\n",
              " 'pqr',\n",
              " 'rst',\n",
              " 100,\n",
              " 99,\n",
              " 98,\n",
              " 'permanent list added here',\n",
              " 'permanent list added here']"
            ]
          },
          "metadata": {},
          "execution_count": 50
        }
      ]
    },
    {
      "cell_type": "code",
      "source": [
        "# we can multiply the number of times we want to multiple lists by using *\n",
        "# Making the list 4 times\n",
        "\n",
        "list * 4\n"
      ],
      "metadata": {
        "colab": {
          "base_uri": "https://localhost:8080/"
        },
        "id": "36fq2HhdCPvx",
        "outputId": "61615c48-2a9f-4bda-c65f-a2b60b46b1fd"
      },
      "execution_count": 52,
      "outputs": [
        {
          "output_type": "execute_result",
          "data": {
            "text/plain": [
              "['1',\n",
              " 'pqr',\n",
              " 'rst',\n",
              " 100,\n",
              " 99,\n",
              " 98,\n",
              " 'permanent list added here',\n",
              " 'permanent list added here',\n",
              " '1',\n",
              " 'pqr',\n",
              " 'rst',\n",
              " 100,\n",
              " 99,\n",
              " 98,\n",
              " 'permanent list added here',\n",
              " 'permanent list added here',\n",
              " '1',\n",
              " 'pqr',\n",
              " 'rst',\n",
              " 100,\n",
              " 99,\n",
              " 98,\n",
              " 'permanent list added here',\n",
              " 'permanent list added here',\n",
              " '1',\n",
              " 'pqr',\n",
              " 'rst',\n",
              " 100,\n",
              " 99,\n",
              " 98,\n",
              " 'permanent list added here',\n",
              " 'permanent list added here']"
            ]
          },
          "metadata": {},
          "execution_count": 52
        }
      ]
    },
    {
      "cell_type": "code",
      "source": [
        "# using * doesn't change the list permanently\n",
        "list"
      ],
      "metadata": {
        "colab": {
          "base_uri": "https://localhost:8080/"
        },
        "id": "TnXjXmORCTNj",
        "outputId": "becd5473-a53e-43a6-a400-5a61f4c1747e"
      },
      "execution_count": 53,
      "outputs": [
        {
          "output_type": "execute_result",
          "data": {
            "text/plain": [
              "['1',\n",
              " 'pqr',\n",
              " 'rst',\n",
              " 100,\n",
              " 99,\n",
              " 98,\n",
              " 'permanent list added here',\n",
              " 'permanent list added here']"
            ]
          },
          "metadata": {},
          "execution_count": 53
        }
      ]
    },
    {
      "cell_type": "code",
      "source": [
        ""
      ],
      "metadata": {
        "id": "mX7Nf0-gC1v4"
      },
      "execution_count": null,
      "outputs": []
    },
    {
      "cell_type": "code",
      "source": [
        "# Create a new list\n",
        "list1 = [1,2,3]\n",
        "Use the append method to permanently add an item to the end of a list:\n",
        "\n",
        "# Append\n",
        "list1.append('append me!')\n",
        "# Show\n",
        "list1\n",
        "[1, 2, 3, 'append me!']\n",
        "Use pop to \"pop off\" an item from the list. By default pop takes off the last index, but you can also specify which index to pop off. Let's see an example:\n",
        "\n",
        "# Pop off the 0 indexed item\n",
        "list1.pop(0)\n",
        "1\n",
        "# Show\n",
        "list1\n",
        "[2, 3, 'append me!']\n",
        "# Assign the popped element, remember default popped index is -1\n",
        "popped_item = list1.pop()\n",
        "popped_item\n",
        "'append me!'\n",
        "# Show remaining list\n",
        "list1\n",
        "[2, 3]"
      ],
      "metadata": {
        "id": "NYVHpJLhC12q"
      },
      "execution_count": null,
      "outputs": []
    },
    {
      "cell_type": "markdown",
      "source": [
        ""
      ],
      "metadata": {
        "id": "pvB6FIgTC2KM"
      }
    },
    {
      "cell_type": "code",
      "source": [
        "# Create a new list\n",
        "list1 = ['jkl',20,99]\n",
        "\n",
        "# Append methods add an item to the end of a list permanently\n",
        "# Append\n",
        "list1.append('appended')\n",
        "# Show\n",
        "\n",
        "list1\n",
        "[1, 2, 3, 'append me!']\n",
        "# pop pops off an item fromt he list which is the last index by default.\n",
        "# Pop off works with indexed item as well\n",
        "list1.pop\n",
        "\n",
        "list1.pop(1)\n"
      ],
      "metadata": {
        "id": "izkV5Nc7C71Q"
      },
      "execution_count": null,
      "outputs": []
    },
    {
      "cell_type": "code",
      "source": [
        "# Create a new list\n",
        "list1 = ['jkl',20,99,81,77,98,96]\n",
        "list1"
      ],
      "metadata": {
        "colab": {
          "base_uri": "https://localhost:8080/"
        },
        "id": "Ic0mfWt1EK2C",
        "outputId": "af083db5-751d-45ee-b524-1eda4ac14dd6"
      },
      "execution_count": 80,
      "outputs": [
        {
          "output_type": "execute_result",
          "data": {
            "text/plain": [
              "['jkl', 20, 99, 81, 77, 98, 96]"
            ]
          },
          "metadata": {},
          "execution_count": 80
        }
      ]
    },
    {
      "cell_type": "code",
      "source": [
        "# Append methods add an item to the end of a list permanently\n",
        "# Append\n",
        "list1.append('appended')\n",
        "list1"
      ],
      "metadata": {
        "colab": {
          "base_uri": "https://localhost:8080/"
        },
        "id": "p9dJ-B7gEK4k",
        "outputId": "28d5bbcf-8798-43e8-fc4e-cf0c6f388fe0"
      },
      "execution_count": 81,
      "outputs": [
        {
          "output_type": "execute_result",
          "data": {
            "text/plain": [
              "['jkl', 20, 99, 81, 77, 98, 96, 'appended']"
            ]
          },
          "metadata": {},
          "execution_count": 81
        }
      ]
    },
    {
      "cell_type": "code",
      "source": [
        "list1"
      ],
      "metadata": {
        "colab": {
          "base_uri": "https://localhost:8080/"
        },
        "id": "057qlT3cEK6e",
        "outputId": "cf011d5e-8422-4964-bb39-1ac32cc2be52"
      },
      "execution_count": 82,
      "outputs": [
        {
          "output_type": "execute_result",
          "data": {
            "text/plain": [
              "['jkl', 20, 99, 81, 77, 98, 96, 'appended']"
            ]
          },
          "metadata": {},
          "execution_count": 82
        }
      ]
    },
    {
      "cell_type": "code",
      "source": [
        "# pop pops off an item fromt the list which is the last index by default.\n",
        "# Pop off works with indexed item as well\n",
        "list1.pop()"
      ],
      "metadata": {
        "colab": {
          "base_uri": "https://localhost:8080/",
          "height": 35
        },
        "id": "cmhUAsSxEUpj",
        "outputId": "eccc85c9-c029-4818-af15-4076e0b6dbcc"
      },
      "execution_count": 83,
      "outputs": [
        {
          "output_type": "execute_result",
          "data": {
            "application/vnd.google.colaboratory.intrinsic+json": {
              "type": "string"
            },
            "text/plain": [
              "'appended'"
            ]
          },
          "metadata": {},
          "execution_count": 83
        }
      ]
    },
    {
      "cell_type": "code",
      "source": [
        "list1"
      ],
      "metadata": {
        "colab": {
          "base_uri": "https://localhost:8080/"
        },
        "id": "DeqB7MMDEax7",
        "outputId": "036dad47-97fa-4f38-dc06-62058619311f"
      },
      "execution_count": 84,
      "outputs": [
        {
          "output_type": "execute_result",
          "data": {
            "text/plain": [
              "['jkl', 20, 99, 81, 77, 98, 96]"
            ]
          },
          "metadata": {},
          "execution_count": 84
        }
      ]
    },
    {
      "cell_type": "code",
      "source": [
        "list1.pop(1)\n"
      ],
      "metadata": {
        "colab": {
          "base_uri": "https://localhost:8080/"
        },
        "id": "YvAKkqykEXD6",
        "outputId": "5c2eb799-b798-4194-c8a4-eee367a7b105"
      },
      "execution_count": 85,
      "outputs": [
        {
          "output_type": "execute_result",
          "data": {
            "text/plain": [
              "20"
            ]
          },
          "metadata": {},
          "execution_count": 85
        }
      ]
    },
    {
      "cell_type": "code",
      "source": [
        "list1"
      ],
      "metadata": {
        "colab": {
          "base_uri": "https://localhost:8080/"
        },
        "id": "auHNF4oTEmUE",
        "outputId": "503b7576-54b6-47f1-89c2-aac235dc2a5d"
      },
      "execution_count": 86,
      "outputs": [
        {
          "output_type": "execute_result",
          "data": {
            "text/plain": [
              "['jkl', 99, 81, 77, 98, 96]"
            ]
          },
          "metadata": {},
          "execution_count": 86
        }
      ]
    },
    {
      "cell_type": "code",
      "source": [
        "# Assign the popped element, remember default popped index is -1\n",
        "popped_item = list1.pop()\n",
        "popped_item\n"
      ],
      "metadata": {
        "colab": {
          "base_uri": "https://localhost:8080/"
        },
        "id": "uqwsiifZEIy-",
        "outputId": "150a0033-9c9d-42cb-8e84-3dffe35b8886"
      },
      "execution_count": 87,
      "outputs": [
        {
          "output_type": "execute_result",
          "data": {
            "text/plain": [
              "96"
            ]
          },
          "metadata": {},
          "execution_count": 87
        }
      ]
    },
    {
      "cell_type": "code",
      "source": [
        "list1\n"
      ],
      "metadata": {
        "colab": {
          "base_uri": "https://localhost:8080/"
        },
        "id": "ZAHG7WPmE0ez",
        "outputId": "9ef22da7-5cbb-4988-fccc-5c46932a6610"
      },
      "execution_count": 88,
      "outputs": [
        {
          "output_type": "execute_result",
          "data": {
            "text/plain": [
              "['jkl', 99, 81, 77, 98]"
            ]
          },
          "metadata": {},
          "execution_count": 88
        }
      ]
    },
    {
      "cell_type": "code",
      "source": [
        "# error is returned if there is no element at a particular index, for eg -\n",
        "list1[50]\n",
        "\n"
      ],
      "metadata": {
        "id": "H3g0_IKDCkGn"
      },
      "execution_count": null,
      "outputs": []
    },
    {
      "cell_type": "code",
      "source": [
        ""
      ],
      "metadata": {
        "id": "8XllZ548FkQn"
      },
      "execution_count": null,
      "outputs": []
    },
    {
      "cell_type": "code",
      "source": [
        "# Sort and reverse methods on lists :\n",
        "newlist = ['1','2',3,5,9*9]\n",
        "newlist\n"
      ],
      "metadata": {
        "colab": {
          "base_uri": "https://localhost:8080/"
        },
        "id": "FYDcE6vwCkJW",
        "outputId": "0baa80b5-e3a2-45f5-a1b7-2a8b4b11774d"
      },
      "execution_count": 89,
      "outputs": [
        {
          "output_type": "execute_result",
          "data": {
            "text/plain": [
              "['1', '2', 3, 5, 81]"
            ]
          },
          "metadata": {},
          "execution_count": 89
        }
      ]
    },
    {
      "cell_type": "code",
      "source": [
        "# reverse permanently reverses the order\n",
        "newlist.reverse()\n",
        "newlist\n"
      ],
      "metadata": {
        "id": "F80RsUOzFiRO"
      },
      "execution_count": null,
      "outputs": []
    },
    {
      "cell_type": "code",
      "source": [
        "list = ['9', 9, 't', 'y', 9*8]\n"
      ],
      "metadata": {
        "id": "ScXQRHUQGAmQ"
      },
      "execution_count": 90,
      "outputs": []
    },
    {
      "cell_type": "code",
      "source": [
        "list2 = ['9', 't', 'y','8','80']\n"
      ],
      "metadata": {
        "id": "zWCjJqinGJ6y"
      },
      "execution_count": 104,
      "outputs": []
    },
    {
      "cell_type": "code",
      "source": [
        "# sorts sorts the numbers in ascending order and alphabets in alphabetical order\n",
        "list2.sort()\n",
        "\n"
      ],
      "metadata": {
        "id": "zH4kc-qjFwWc"
      },
      "execution_count": 111,
      "outputs": []
    },
    {
      "cell_type": "code",
      "source": [
        "list2"
      ],
      "metadata": {
        "colab": {
          "base_uri": "https://localhost:8080/"
        },
        "id": "8WvZC2h6GPDH",
        "outputId": "8117012c-23cc-4dea-9456-a9af9540a41f"
      },
      "execution_count": 112,
      "outputs": [
        {
          "output_type": "execute_result",
          "data": {
            "text/plain": [
              "['8', '80', '9', 't', 'y']"
            ]
          },
          "metadata": {},
          "execution_count": 112
        }
      ]
    },
    {
      "cell_type": "code",
      "source": [
        "list3 = ['q', 't', 'z','r','y','a']\n"
      ],
      "metadata": {
        "id": "aFNhopDpGh5G"
      },
      "execution_count": 120,
      "outputs": []
    },
    {
      "cell_type": "code",
      "source": [
        "list3.sort()"
      ],
      "metadata": {
        "id": "ahwiYd8SGmyb"
      },
      "execution_count": 121,
      "outputs": []
    },
    {
      "cell_type": "code",
      "source": [
        "list3"
      ],
      "metadata": {
        "colab": {
          "base_uri": "https://localhost:8080/"
        },
        "id": "gFdhobkyGtqm",
        "outputId": "a89ee69b-df4c-42fa-800e-7fc6137aba2e"
      },
      "execution_count": 122,
      "outputs": [
        {
          "output_type": "execute_result",
          "data": {
            "text/plain": [
              "['a', 'q', 'r', 't', 'y', 'z']"
            ]
          },
          "metadata": {},
          "execution_count": 122
        }
      ]
    },
    {
      "cell_type": "code",
      "source": [
        "# sorts sorts the numbers in asceding order and alpahbets in alphabetical order\n",
        "list4 = [2,3,44,1,5,99,80]\n",
        "list4\n"
      ],
      "metadata": {
        "colab": {
          "base_uri": "https://localhost:8080/"
        },
        "id": "vhWt0LcYF8Ff",
        "outputId": "dccbd645-1172-4d95-aff3-3484de0787be"
      },
      "execution_count": 123,
      "outputs": [
        {
          "output_type": "execute_result",
          "data": {
            "text/plain": [
              "[2, 3, 44, 1, 5, 99, 80]"
            ]
          },
          "metadata": {},
          "execution_count": 123
        }
      ]
    },
    {
      "cell_type": "code",
      "source": [
        "list4.sort()"
      ],
      "metadata": {
        "id": "Sj5Vo7RcG-me"
      },
      "execution_count": 124,
      "outputs": []
    },
    {
      "cell_type": "code",
      "source": [
        "list4"
      ],
      "metadata": {
        "colab": {
          "base_uri": "https://localhost:8080/"
        },
        "id": "4v0hiLf3HADj",
        "outputId": "14f6e137-f823-4a8c-c1d3-44b73eead610"
      },
      "execution_count": 125,
      "outputs": [
        {
          "output_type": "execute_result",
          "data": {
            "text/plain": [
              "[1, 2, 3, 5, 44, 80, 99]"
            ]
          },
          "metadata": {},
          "execution_count": 125
        }
      ]
    },
    {
      "cell_type": "code",
      "source": [
        ""
      ],
      "metadata": {
        "id": "PyAI1VH0HIRe"
      },
      "execution_count": null,
      "outputs": []
    },
    {
      "cell_type": "markdown",
      "source": [
        "**Nesting**\n",
        "Nesting means we can have data structures inside data structures, that is lists within lists."
      ],
      "metadata": {
        "id": "UeFiO99UHIrk"
      }
    },
    {
      "cell_type": "code",
      "source": [
        "# Let's make three lists\n",
        "list_1=[21,22,23]\n",
        "list_2=[44,45,46]\n",
        "list_3=[57,58,59]\n",
        "\n",
        "# Make a list of lists to form a matrix\n",
        "listoflists = [list_1,list_2,list_3]"
      ],
      "metadata": {
        "id": "djolzC7WHbdc"
      },
      "execution_count": 127,
      "outputs": []
    },
    {
      "cell_type": "code",
      "source": [
        "listoflists\n"
      ],
      "metadata": {
        "colab": {
          "base_uri": "https://localhost:8080/"
        },
        "id": "5eVGHAyoHePG",
        "outputId": "a60a9f7f-7f46-4864-9cdf-40835b18476c"
      },
      "execution_count": 128,
      "outputs": [
        {
          "output_type": "execute_result",
          "data": {
            "text/plain": [
              "[[21, 22, 23], [44, 45, 46], [57, 58, 59]]"
            ]
          },
          "metadata": {},
          "execution_count": 128
        }
      ]
    },
    {
      "cell_type": "code",
      "source": [
        "# we can use indexing to first get items inside list of lists and then items in a particular list\n",
        "# Getting second item in listoflists object\n",
        "listoflists[1]"
      ],
      "metadata": {
        "colab": {
          "base_uri": "https://localhost:8080/"
        },
        "id": "H8Se6LhKHcPZ",
        "outputId": "8a8ea1a3-ad75-451b-811b-ee9420d485e8"
      },
      "execution_count": 130,
      "outputs": [
        {
          "output_type": "execute_result",
          "data": {
            "text/plain": [
              "[44, 45, 46]"
            ]
          },
          "metadata": {},
          "execution_count": 130
        }
      ]
    },
    {
      "cell_type": "code",
      "source": [
        "# Getting third item in the listoflists object\n",
        "listoflists[1][2]\n"
      ],
      "metadata": {
        "colab": {
          "base_uri": "https://localhost:8080/"
        },
        "id": "Jc74jk07IBDR",
        "outputId": "41cafcb7-a18e-47f0-edeb-3b67b2c77463"
      },
      "execution_count": 132,
      "outputs": [
        {
          "output_type": "execute_result",
          "data": {
            "text/plain": [
              "46"
            ]
          },
          "metadata": {},
          "execution_count": 132
        }
      ]
    },
    {
      "cell_type": "markdown",
      "source": [
        "A small example of list comprehensions here"
      ],
      "metadata": {
        "id": "29JDKtdHIOf2"
      }
    },
    {
      "cell_type": "code",
      "source": [
        "firstcolumn = [a[0] for a in listoflists]\n"
      ],
      "metadata": {
        "id": "9aWRBmIlIRty"
      },
      "execution_count": 133,
      "outputs": []
    },
    {
      "cell_type": "code",
      "source": [
        "firstcolumn"
      ],
      "metadata": {
        "colab": {
          "base_uri": "https://localhost:8080/"
        },
        "id": "w5sPDo0HIedG",
        "outputId": "af14e59a-681d-413f-f2a4-b5b489db3dc4"
      },
      "execution_count": 134,
      "outputs": [
        {
          "output_type": "execute_result",
          "data": {
            "text/plain": [
              "[21, 44, 57]"
            ]
          },
          "metadata": {},
          "execution_count": 134
        }
      ]
    },
    {
      "cell_type": "code",
      "source": [
        "secondcolumn = [a[1] for a in listoflists]\n"
      ],
      "metadata": {
        "id": "e1bMWyNWIjL0"
      },
      "execution_count": 136,
      "outputs": []
    },
    {
      "cell_type": "code",
      "source": [
        "secondcolumn"
      ],
      "metadata": {
        "colab": {
          "base_uri": "https://localhost:8080/"
        },
        "id": "QbyZJGFlIl_h",
        "outputId": "47b12b92-c01e-4ba0-a715-2a049bbaedc3"
      },
      "execution_count": 137,
      "outputs": [
        {
          "output_type": "execute_result",
          "data": {
            "text/plain": [
              "[22, 45, 58]"
            ]
          },
          "metadata": {},
          "execution_count": 137
        }
      ]
    }
  ]
}