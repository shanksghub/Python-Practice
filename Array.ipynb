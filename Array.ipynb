{
  "cells": [
    {
      "cell_type": "code",
      "source": [
        ""
      ],
      "metadata": {
        "id": "1fGxn39UI8ZC"
      },
      "execution_count": null,
      "outputs": []
    },
    {
      "cell_type": "code",
      "source": [
        ""
      ],
      "metadata": {
        "id": "sVtHGWljI8bS"
      },
      "execution_count": null,
      "outputs": []
    },
    {
      "cell_type": "markdown",
      "source": [
        "Q. Given two strings, check to see if they are anagrams. An anagram is when the two strings can be written using the exact same letters (so you can just rearrange the letters to get a different phrase or word).\n",
        "\n"
      ],
      "metadata": {
        "id": "cFBaxzpfI8uI"
      }
    },
    {
      "cell_type": "markdown",
      "source": [
        "A. If two strings contain same frequency of letters, then they are anagrams or if after using sorted() function they are same, then again they must be anagrams."
      ],
      "metadata": {
        "id": "b_iWnPGRI__n"
      }
    },
    {
      "cell_type": "code",
      "source": [
        "s = [('yellow', 1), ('blue', 2), ('yellow', 3), ('blue', 4), ('red', 1)]\n",
        "d = defaultdict(list)\n",
        "\n",
        "\n",
        "\n",
        "from collections import defaultdict\n"
      ],
      "metadata": {
        "id": "fcc-bh_pJWB0",
        "outputId": "5d7d68bd-febe-4bed-b511-1300db72f88e",
        "colab": {
          "base_uri": "https://localhost:8080/",
          "height": 189
        }
      },
      "execution_count": 1,
      "outputs": [
        {
          "output_type": "error",
          "ename": "NameError",
          "evalue": "ignored",
          "traceback": [
            "\u001b[0;31m---------------------------------------------------------------------------\u001b[0m",
            "\u001b[0;31mNameError\u001b[0m                                 Traceback (most recent call last)",
            "\u001b[0;32m<ipython-input-1-d03ebacb8cef>\u001b[0m in \u001b[0;36m<module>\u001b[0;34m()\u001b[0m\n\u001b[1;32m      1\u001b[0m \u001b[0ms\u001b[0m \u001b[0;34m=\u001b[0m \u001b[0;34m[\u001b[0m\u001b[0;34m(\u001b[0m\u001b[0;34m'yellow'\u001b[0m\u001b[0;34m,\u001b[0m \u001b[0;36m1\u001b[0m\u001b[0;34m)\u001b[0m\u001b[0;34m,\u001b[0m \u001b[0;34m(\u001b[0m\u001b[0;34m'blue'\u001b[0m\u001b[0;34m,\u001b[0m \u001b[0;36m2\u001b[0m\u001b[0;34m)\u001b[0m\u001b[0;34m,\u001b[0m \u001b[0;34m(\u001b[0m\u001b[0;34m'yellow'\u001b[0m\u001b[0;34m,\u001b[0m \u001b[0;36m3\u001b[0m\u001b[0;34m)\u001b[0m\u001b[0;34m,\u001b[0m \u001b[0;34m(\u001b[0m\u001b[0;34m'blue'\u001b[0m\u001b[0;34m,\u001b[0m \u001b[0;36m4\u001b[0m\u001b[0;34m)\u001b[0m\u001b[0;34m,\u001b[0m \u001b[0;34m(\u001b[0m\u001b[0;34m'red'\u001b[0m\u001b[0;34m,\u001b[0m \u001b[0;36m1\u001b[0m\u001b[0;34m)\u001b[0m\u001b[0;34m]\u001b[0m\u001b[0;34m\u001b[0m\u001b[0;34m\u001b[0m\u001b[0m\n\u001b[0;32m----> 2\u001b[0;31m \u001b[0md\u001b[0m \u001b[0;34m=\u001b[0m \u001b[0mdefaultdict\u001b[0m\u001b[0;34m(\u001b[0m\u001b[0mlist\u001b[0m\u001b[0;34m)\u001b[0m\u001b[0;34m\u001b[0m\u001b[0;34m\u001b[0m\u001b[0m\n\u001b[0m",
            "\u001b[0;31mNameError\u001b[0m: name 'defaultdict' is not defined"
          ]
        }
      ]
    },
    {
      "cell_type": "code",
      "source": [
        "for k, v in s:\n",
        "    d[k].append(v)\n",
        "\n",
        "sorted(d.items())"
      ],
      "metadata": {
        "id": "2qQiRoY_KSYm"
      },
      "execution_count": null,
      "outputs": []
    },
    {
      "cell_type": "code",
      "source": [
        "def check_anagram(word1, word2):\n",
        "    word1 = word1.replace(' ','').lower() # to remove the spaces and make letters lowercase\n",
        "    word2 = word2.replace(' ','').lower()\n",
        "\n",
        "    if len(word1) != len(word2):\n",
        "        return False\n",
        "\n",
        "        # Use empty dictionary to count letters frequency in both word1 and word2\n",
        "    dict1 = {}\n",
        "    dict2 = {}\n",
        "\n",
        "        # adding elements to dictionary for the first word\n",
        "    for a in word1:\n",
        "        if a in dict1:\n",
        "            dict1[a] += 1\n",
        "        else:\n",
        "            dict1[a] = 1 \n",
        "    print(dict1)\n",
        "        \n",
        "    for b in word2:\n",
        "        if b in dict2:\n",
        "            dict2[b] += 1\n",
        "        else:\n",
        "            dict2[b] = 1  \n",
        "        print(dict2)\n",
        "      \n",
        "\n",
        "    print(dict1)\n",
        "    print(dict2)\n",
        "    for a in dict1:\n",
        "        print(a)\n",
        "    for a in dict1:\n",
        "        for b in dict2:\n",
        "            if dict1[a] == dict2[b]:\n",
        "                return True\n",
        "\n",
        "              \n"
      ],
      "metadata": {
        "id": "I4SLDovqJWIZ"
      },
      "execution_count": 49,
      "outputs": []
    },
    {
      "cell_type": "code",
      "source": [
        "check_anagram('aza','zaa')\n"
      ],
      "metadata": {
        "id": "cPxUciinQRbV",
        "outputId": "b2964569-012f-4230-d8bf-da2c8702e18c",
        "colab": {
          "base_uri": "https://localhost:8080/"
        }
      },
      "execution_count": 50,
      "outputs": [
        {
          "output_type": "stream",
          "name": "stdout",
          "text": [
            "{'a': 2, 'z': 1}\n",
            "{'z': 1}\n",
            "{'z': 1, 'a': 1}\n",
            "{'z': 1, 'a': 2}\n",
            "{'a': 2, 'z': 1}\n",
            "{'z': 1, 'a': 2}\n",
            "a\n",
            "z\n"
          ]
        },
        {
          "output_type": "execute_result",
          "data": {
            "text/plain": [
              "True"
            ]
          },
          "metadata": {},
          "execution_count": 50
        }
      ]
    },
    {
      "cell_type": "code",
      "source": [
        "def check_anagram(word1,word2):\n",
        "    \n",
        "    # Remove spaces and lowercase letters\n",
        "    word1 = word1.replace(' ','').lower()\n",
        "    word2 = word2.replace(' ','').lower()\n",
        "    \n",
        "    # Return boolean for sorted match.\n",
        "    return sorted(word1) == sorted(word2)\n",
        "\n",
        "check_anagram('aza','zaa')\n"
      ],
      "metadata": {
        "id": "ZhqlFMKVJLY9",
        "outputId": "e76eec2c-0366-4f14-8383-5ac263eef9c4",
        "colab": {
          "base_uri": "https://localhost:8080/"
        }
      },
      "execution_count": 32,
      "outputs": [
        {
          "output_type": "execute_result",
          "data": {
            "text/plain": [
              "True"
            ]
          },
          "metadata": {},
          "execution_count": 32
        }
      ]
    },
    {
      "cell_type": "code",
      "source": [
        ""
      ],
      "metadata": {
        "id": "yevghA0TZvqV"
      },
      "execution_count": null,
      "outputs": []
    },
    {
      "cell_type": "markdown",
      "source": [
        "Array Pair Sum\n",
        "Problem\n",
        "Given an integer array, output all the unique pairs that sum up to a specific value k.\n",
        "\n",
        "So the input:\n",
        "\n",
        "pair_sum([1,3,2,2],4)\n",
        "\n",
        "would return 2 pairs:\n",
        "\n",
        " (1,3)\n",
        " (2,2)"
      ],
      "metadata": {
        "id": "cSXOrzR2ZvzY"
      }
    },
    {
      "cell_type": "code",
      "source": [
        "def pair_sum(a,b):\n",
        "#    a = []\n",
        " #   b = b\n",
        "\n",
        "    for k in a:\n",
        "        for s in a:\n",
        "           # for (k,s) == b:\n",
        "                if k+s==b:  \n",
        "                    l = (k,s)\n",
        "                    print(set(l))\n",
        "                else:\n",
        "                    continue      "
      ],
      "metadata": {
        "id": "sBI5CxAtZxYL"
      },
      "execution_count": 97,
      "outputs": []
    },
    {
      "cell_type": "code",
      "source": [
        "def pair_sum(a,b):\n",
        "#    a = []\n",
        " #   b = b\n",
        "\n",
        "    for k in a:\n",
        "        for s in a:\n",
        "           # for (k,s) == b:\n",
        "                if k+s==b:  \n",
        "                    l = (k,s)\n",
        "                    print(set(l))\n",
        "                  "
      ],
      "metadata": {
        "id": "cCwkTzF_ffUC"
      },
      "execution_count": 99,
      "outputs": []
    },
    {
      "cell_type": "code",
      "source": [
        "pair_sum([2,3,4,1],5)\n"
      ],
      "metadata": {
        "id": "qPpvG8adaugo",
        "outputId": "073eadba-5019-4127-a177-04845621e58b",
        "colab": {
          "base_uri": "https://localhost:8080/"
        }
      },
      "execution_count": 100,
      "outputs": [
        {
          "output_type": "stream",
          "name": "stdout",
          "text": [
            "{2, 3}\n",
            "{2, 3}\n",
            "{1, 4}\n",
            "{1, 4}\n"
          ]
        }
      ]
    },
    {
      "cell_type": "code",
      "source": [
        "def pair_sum(arr,k):\n",
        "    \n",
        "    if len(arr)<2:\n",
        "        return\n",
        "    \n",
        "    # Sets for tracking\n",
        "    seen = set()\n",
        "    output = set()\n",
        "    \n",
        "    # For every number in array\n",
        "    for num in arr:\n",
        "        \n",
        "        # Set target difference\n",
        "        target = k-num\n",
        "        \n",
        "        # Add it to set if target hasn't been seen\n",
        "        if target not in seen:\n",
        "            seen.add(num)\n",
        "        \n",
        "        else:\n",
        "            # Add a tuple with the corresponding pair\n",
        "            output.add( (min(num,target),  max(num,target)) )\n",
        "    \n",
        "    \n",
        "    # FOR TESTING\n",
        "    return (output)"
      ],
      "metadata": {
        "id": "xnP3ktdSa8gN"
      },
      "execution_count": 77,
      "outputs": []
    },
    {
      "cell_type": "code",
      "source": [
        "pair_sum([1,2,3,4,2,3,2,3],5)"
      ],
      "metadata": {
        "id": "2QxBR6DaeJgP",
        "outputId": "509a6bc3-d136-468e-b8da-1cf3274ff3e8",
        "colab": {
          "base_uri": "https://localhost:8080/"
        }
      },
      "execution_count": 81,
      "outputs": [
        {
          "output_type": "execute_result",
          "data": {
            "text/plain": [
              "{(1, 4), (2, 3)}"
            ]
          },
          "metadata": {},
          "execution_count": 81
        }
      ]
    }
  ],
  "metadata": {
    "colab": {
      "collapsed_sections": [],
      "name": "Welcome To Colaboratory",
      "toc_visible": true,
      "provenance": []
    },
    "kernelspec": {
      "display_name": "Python 3",
      "name": "python3"
    }
  },
  "nbformat": 4,
  "nbformat_minor": 0
}