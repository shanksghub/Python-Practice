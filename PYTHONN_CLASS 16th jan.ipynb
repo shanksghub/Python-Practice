{
  "cells": [
    {
      "cell_type": "markdown",
      "source": [
        "Object oriented programming is on of the more complicated parts of learning Python"
      ],
      "metadata": {
        "id": "wYzKNjmiBst-"
      }
    },
    {
      "cell_type": "markdown",
      "source": [
        "Creating our own Object types\n"
      ],
      "metadata": {
        "id": "mpMo7_DtCYOq"
      }
    },
    {
      "cell_type": "code",
      "source": [
        "# class\n",
        "# class keywords helps us create user defined objects.\n",
        "# The class is a blueprint that defines the nature of a future object. From classes we can construct \n",
        "# instances. \n",
        "# Instances are specific objects created from a specific class.\n",
        "\n",
        "# example of class\n",
        "# create object type called Example\n",
        "class Example:\n",
        "    pass\n",
        "\n",
        "# Instance of example\n",
        "x = Example()\n"
      ],
      "metadata": {
        "id": "7t9ApwpEGMMh"
      },
      "execution_count": null,
      "outputs": []
    },
    {
      "cell_type": "code",
      "source": [
        "x"
      ],
      "metadata": {
        "id": "n46qZcfdGS9M",
        "outputId": "8de11c8b-7cf4-4be6-92bc-fc23b576e48b",
        "colab": {
          "base_uri": "https://localhost:8080/"
        }
      },
      "execution_count": null,
      "outputs": [
        {
          "output_type": "execute_result",
          "data": {
            "text/plain": [
              "<__main__.Example at 0x7faea798a250>"
            ]
          },
          "metadata": {},
          "execution_count": 3
        }
      ]
    },
    {
      "cell_type": "code",
      "source": [
        "print(type(x))"
      ],
      "metadata": {
        "id": "VJkQbfgPGTvD",
        "outputId": "6987360c-fd7c-4f43-815f-97a2e3fbc9df",
        "colab": {
          "base_uri": "https://localhost:8080/"
        }
      },
      "execution_count": null,
      "outputs": [
        {
          "output_type": "stream",
          "name": "stdout",
          "text": [
            "<class '__main__.Example'>\n"
          ]
        }
      ]
    },
    {
      "cell_type": "markdown",
      "source": [
        "Conventionally classes are named with first letter starting \n",
        "from a capital letter. \n",
        "x above refers to thenew instance of Example class. \n",
        "We instantiated the Example class.\n"
      ],
      "metadata": {
        "id": "32K3WmXSG8Qx"
      }
    },
    {
      "cell_type": "markdown",
      "source": [
        "Rather than just having pass inside class \n",
        "we can defined class attributes and methods.\n",
        "\n",
        "An attribute is a characteristic of an object. \n",
        "A method is an operation we can perform with the object."
      ],
      "metadata": {
        "id": "lHFEbxBOHZYa"
      }
    },
    {
      "cell_type": "markdown",
      "source": [
        "For example, we can create a class called XboxGames. \n",
        "An attribute of a XboxGames may be its edition or its Developer,\n",
        "while a method of a XboxGames may be defined by a .version() method\n",
        "which returns its version.\n",
        "\n",
        "Understanding attributes through examples\n",
        "Attributes"
      ],
      "metadata": {
        "id": "5XlZgEtnJIaE"
      }
    },
    {
      "cell_type": "code",
      "source": [
        "# The syntax for creating an attribute is:\n",
        "\n",
        "# self.attribute = someinfo\n",
        "\n",
        "# __init__ is a special method which initializes attributes of an object:\n",
        "# __init__()\n",
        "\n",
        "class XboxGames:\n",
        "    def __init__(self,editiion):\n",
        "        self.edition = editiion\n",
        "\n",
        "halo = XboxGames(editiion = 'Definitive edition')        \n",
        "ori = XboxGames(editiion = 'Blind forest')\n",
        "\n",
        "# Lets see what's happening. when we use the special method __init__ we get: \n",
        "\n",
        "# __init__() \n",
        "# is called automatically right after the object has been created:\n",
        "\n",
        "#def __init__(self, edition):\n",
        "\n",
        "# Each attribute in a class definition begins with a reference to the instance object. \n",
        "# It is by convention named self. The edition is the argument. The value is passed during the class instantiation.\n",
        "\n",
        "    #self.edition = ediotion\n"
      ],
      "metadata": {
        "id": "PgXD2K_WCYfk"
      },
      "execution_count": null,
      "outputs": []
    },
    {
      "cell_type": "code",
      "source": [
        "# The syntax for creating an attribute is:\n",
        "\n",
        "# self.attribute = someinfo\n",
        "\n",
        "# __init__ is a special method which initializes attributes of an object:\n",
        "# __init__()\n",
        "\n",
        "class XboxGames:\n",
        "    def __init__(self,editiion):\n",
        "        self.edition = editiion\n",
        "\n",
        "halo = XboxGames('Definitive edition4')        \n",
        "ori = XboxGames('Blind forest')\n"
      ],
      "metadata": {
        "id": "OutXwYVU9Gk5"
      },
      "execution_count": null,
      "outputs": []
    },
    {
      "cell_type": "code",
      "source": [
        "# Now we have created two instances of the XboxGames class. \n",
        "# With two edition types, we can then access these attributes like this:\n",
        "\n",
        "halo.edition\n",
        "\n",
        "# Note how we don't have any parentheses after edition; this is because it is an attribute and doesn't take any arguments.\n"
      ],
      "metadata": {
        "id": "Awfix0oNO2-1",
        "outputId": "b9009d0a-cced-4ff8-8307-893069215493",
        "colab": {
          "base_uri": "https://localhost:8080/",
          "height": 36
        }
      },
      "execution_count": null,
      "outputs": [
        {
          "output_type": "execute_result",
          "data": {
            "application/vnd.google.colaboratory.intrinsic+json": {
              "type": "string"
            },
            "text/plain": [
              "'Definitive edition'"
            ]
          },
          "metadata": {},
          "execution_count": 6
        }
      ]
    },
    {
      "cell_type": "code",
      "source": [
        "# Now we have created two instances of the XboxGames class. \n",
        "# With two edition types, we can then access these attributes like this:\n",
        "\n",
        "halo.edition\n",
        "\n",
        "# Note how we don't have any parentheses after edition; this is because it is an attribute and doesn't take any arguments.\n"
      ],
      "metadata": {
        "colab": {
          "base_uri": "https://localhost:8080/",
          "height": 36
        },
        "id": "CS9AJABN9Lia",
        "outputId": "30ae6c5a-1e1f-4740-b6d6-468417d2a15e"
      },
      "execution_count": null,
      "outputs": [
        {
          "output_type": "execute_result",
          "data": {
            "application/vnd.google.colaboratory.intrinsic+json": {
              "type": "string"
            },
            "text/plain": [
              "'Definitive edition4'"
            ]
          },
          "metadata": {},
          "execution_count": 16
        }
      ]
    },
    {
      "cell_type": "code",
      "source": [
        "ori.edition\n"
      ],
      "metadata": {
        "id": "pgc2Ii3tPMBX",
        "outputId": "0241b6e8-8d2a-43ed-f4f7-8ec5c7a6b4c4",
        "colab": {
          "base_uri": "https://localhost:8080/",
          "height": 36
        }
      },
      "execution_count": null,
      "outputs": [
        {
          "output_type": "execute_result",
          "data": {
            "application/vnd.google.colaboratory.intrinsic+json": {
              "type": "string"
            },
            "text/plain": [
              "'Blind forest'"
            ]
          },
          "metadata": {},
          "execution_count": 7
        }
      ]
    },
    {
      "cell_type": "markdown",
      "source": [
        "In Python there are also class object attributes. These Class Object Attributes are the same for any instance of the class. \n",
        "For example, we could create the attribute species for the PS class. Playstation, regardless of their version, year, or other attributes,\n",
        "will always be consoles. We apply this logic in the following manner:\n"
      ],
      "metadata": {
        "id": "xLi8gnEulCiV"
      }
    },
    {
      "cell_type": "code",
      "source": [
        "\n",
        "class PS:\n",
        "    \n",
        "    # Class Object Attribute\n",
        "    game = 'console'\n",
        "    \n",
        "    def __init__(self,godofwar,versioon):\n",
        "        self.name = godofwar\n",
        "        self.version = versioon\n",
        "\n",
        "psgame = PS('gow',4)\n",
        "psgame.name\n"
      ],
      "metadata": {
        "id": "AFlRzzLRJZl5",
        "colab": {
          "base_uri": "https://localhost:8080/",
          "height": 36
        },
        "outputId": "2c7477e9-0165-401a-a937-fe90f35f4188"
      },
      "execution_count": null,
      "outputs": [
        {
          "output_type": "execute_result",
          "data": {
            "application/vnd.google.colaboratory.intrinsic+json": {
              "type": "string"
            },
            "text/plain": [
              "'gow'"
            ]
          },
          "metadata": {},
          "execution_count": 8
        }
      ]
    },
    {
      "cell_type": "markdown",
      "source": [
        "Note that the Class Object Attribute 'game' is defined outside of any methods in the class. \n",
        "Also by convention, we place them first before the init.\n"
      ],
      "metadata": {
        "id": "Caq1T77pk-Wp"
      }
    },
    {
      "cell_type": "code",
      "source": [
        "psgame.game\n"
      ],
      "metadata": {
        "colab": {
          "base_uri": "https://localhost:8080/",
          "height": 36
        },
        "id": "hRC0ZeFDkpya",
        "outputId": "34f5af4f-e086-4405-ba41-22b883be9236"
      },
      "execution_count": null,
      "outputs": [
        {
          "output_type": "execute_result",
          "data": {
            "application/vnd.google.colaboratory.intrinsic+json": {
              "type": "string"
            },
            "text/plain": [
              "'console'"
            ]
          },
          "metadata": {},
          "execution_count": 9
        }
      ]
    },
    {
      "cell_type": "code",
      "source": [
        "psgame.version"
      ],
      "metadata": {
        "colab": {
          "base_uri": "https://localhost:8080/"
        },
        "id": "N1RJHTcSlQIA",
        "outputId": "54fdc669-0ccd-43df-e317-4b4421cb0f00"
      },
      "execution_count": null,
      "outputs": [
        {
          "output_type": "execute_result",
          "data": {
            "text/plain": [
              "4"
            ]
          },
          "metadata": {},
          "execution_count": 10
        }
      ]
    },
    {
      "cell_type": "markdown",
      "source": [
        "Methods\n",
        "Methods are functions defined inside the body of a class. \n",
        "\n",
        "They are used to perform operations with the attributes of our objects. Methods are a key concept of the OOP paradigm. They are essential to dividing responsibilities in programming, especially in large applications.\n",
        "\n",
        "You can basically think of methods as functions acting on an Object that take the Object itself into account through its self argument.\n",
        "\n"
      ],
      "metadata": {
        "id": "9JU8wL-0puAP"
      }
    },
    {
      "cell_type": "code",
      "source": [
        "# Let's go through an example of creating a Circle class:\n",
        "\n",
        "class Circle:\n",
        "    pi = 3.14\n",
        "\n",
        "    # Circle gets instantiated with a radius (default is 1)\n",
        "    def __init__(self, radius=1):\n",
        "        self.r = radius\n",
        "        self.a = radius * radius * Circle.pi\n",
        "\n",
        "    # Method for resetting Radius\n",
        "    def setRadius(self, new_radius):\n",
        "        self.r = new_radius\n",
        "        self.ar = new_radius * new_radius * self.pi\n",
        "\n",
        "    # Method for getting Circumference\n",
        "    def getCircumference(self):\n",
        "        return self.r * self.pi * 2\n",
        "\n",
        "\n",
        "c = Circle()\n",
        "\n",
        "print('Radius is: ',c.r)\n",
        "print('Area is: ',c.a)\n",
        "print('Circumference is: ',c.getCircumference())\n",
        "\n",
        "c.setRadius(2)\n",
        "\n",
        "print('Radius is: ',c.r)\n",
        "print('Area is: ',c.ar)\n",
        "print('Circumference is: ',c.getCircumference())\n",
        "\n",
        "c.setRadius(20)\n",
        "\n",
        "print('Radius is: ',c.r)\n",
        "print('Area is: ',c.ar)\n",
        "print('Circumference is: ',c.getCircumference())"
      ],
      "metadata": {
        "id": "_JXdtG47Rejf",
        "colab": {
          "base_uri": "https://localhost:8080/"
        },
        "outputId": "138970f9-0bff-4419-83fb-6b0ef81c9584"
      },
      "execution_count": null,
      "outputs": [
        {
          "output_type": "stream",
          "name": "stdout",
          "text": [
            "Radius is:  1\n",
            "Area is:  3.14\n",
            "Circumference is:  6.28\n",
            "Radius is:  2\n",
            "Area is:  12.56\n",
            "Circumference is:  12.56\n",
            "Radius is:  20\n",
            "Area is:  1256.0\n",
            "Circumference is:  125.60000000000001\n"
          ]
        }
      ]
    },
    {
      "cell_type": "code",
      "source": [
        ""
      ],
      "metadata": {
        "id": "Z_5PBBIfpa5V"
      },
      "execution_count": null,
      "outputs": []
    },
    {
      "cell_type": "markdown",
      "source": [
        "In the __init__ method above, in order to calculate the area attribute, we had to call Circle.pi. \n",
        "This is because the object does not yet have its own .pi attribute, so we call the Class Object Attribute pi instead.\n",
        "In the setRadius method, however, we'll be working with an existing Circle object that does have its own pi attribute. \n",
        "Here we can use either Circle.pi or self.pi.\n",
        "\n",
        "Now let's change the radius and see how that affects our Circle object:"
      ],
      "metadata": {
        "id": "N6eJufREw3p3"
      }
    },
    {
      "cell_type": "code",
      "source": [
        "c.setRadius(2)"
      ],
      "metadata": {
        "id": "WiGthtjOxrbl"
      },
      "execution_count": null,
      "outputs": []
    },
    {
      "cell_type": "code",
      "source": [
        "c = Circle()"
      ],
      "metadata": {
        "id": "Am-AMAIwyFeF"
      },
      "execution_count": null,
      "outputs": []
    },
    {
      "cell_type": "code",
      "source": [
        "print('Radius is: ',c.r)\n",
        "print('Area is: ',c.a)\n",
        "print('Circumference is: ',c.getCircumference())"
      ],
      "metadata": {
        "colab": {
          "base_uri": "https://localhost:8080/"
        },
        "id": "J2RGzWYiyAUl",
        "outputId": "d368a3a6-c525-4338-a9c7-bf2ec6aafbe9"
      },
      "execution_count": null,
      "outputs": [
        {
          "output_type": "stream",
          "name": "stdout",
          "text": [
            "Radius is:  1\n",
            "Area is:  3.14\n",
            "Circumference is:  6.28\n"
          ]
        }
      ]
    },
    {
      "cell_type": "markdown",
      "source": [
        "we used self. notation to reference attributes of the class within the method calls."
      ],
      "metadata": {
        "id": "n6skImmsBKys"
      }
    },
    {
      "cell_type": "code",
      "source": [
        "\n",
        "\n"
      ],
      "metadata": {
        "id": "qlEL7gAIwaXv"
      },
      "execution_count": null,
      "outputs": []
    },
    {
      "cell_type": "code",
      "source": [
        ""
      ],
      "metadata": {
        "id": "wL0dPPN833o4"
      },
      "execution_count": null,
      "outputs": []
    },
    {
      "cell_type": "markdown",
      "source": [
        "\n",
        "**Inheritance**\n",
        "\n",
        "Inheritance is a way to form new classes using classes that have already been defined.\n",
        "The newly formed classes are called derived classes, the classes that we derive from are called base classes. \n",
        "Important benefits of inheritance are code reuse and reduction of complexity of a program. \n",
        "The derived classes (descendants) override or extend the functionality of base classes (ancestors)."
      ],
      "metadata": {
        "id": "32EZCXTS336B"
      }
    },
    {
      "cell_type": "code",
      "source": [
        "\n",
        "\n",
        "\n",
        "class Animal:\n",
        "    def __init__(self):\n",
        "        print(\"Animal created\")\n",
        "\n",
        "    def whoAmI(self):\n",
        "        print(\"Animal\")\n",
        "\n",
        "    def eat(self):\n",
        "        print(\"Eating\")\n",
        "\n",
        "\n",
        "class Dog(Animal):\n",
        "    def __init__(self):\n",
        "        Animal.__init__(self)\n",
        "        print(\"Dog created\")\n",
        "\n",
        "    def whoAmI(self):\n",
        "        print(\"Dog\")\n",
        "\n",
        "    def bark(self):\n",
        "        print(\"Woof!\")\n",
        "d = Dog()\n",
        "Animal created\n",
        "Dog created\n",
        "d.whoAmI()\n",
        "Dog\n",
        "d.eat()\n",
        "Eating\n",
        "d.bark()\n",
        "Woof!\n",
        "\n",
        "\n",
        "\n",
        "\n",
        "\n",
        "\n",
        "In this example, we have two classes: Animal and Dog. \n",
        "The Animal is the base class, the Dog is the derived class.\n",
        "\n",
        "The derived class inherits the functionality of the base class.\n",
        "\n",
        "It is shown by the eat() method.\n",
        "The derived class modifies existing behavior of the base class.\n",
        "\n",
        "shown by the whoAmI() method.\n",
        "Finally, the derived class extends the functionality of the base class, by defining a new bark() method.\n"
      ],
      "metadata": {
        "id": "GeVwEkjgRaoI"
      },
      "execution_count": null,
      "outputs": []
    },
    {
      "cell_type": "code",
      "source": [
        "class CloudGaming:\n",
        "    def __init__(self):\n",
        "        print(\"Game on Cloud\")\n",
        "\n",
        "    def whatsthis(self):\n",
        "        print(\"xbox\")\n",
        "\n",
        "    def game(self):\n",
        "        print(\"halo infinite\")\n",
        "\n",
        "\n",
        "class Xbox(CloudGaming):\n",
        "    def __init__(self):\n",
        "        CloudGaming.__init__(self)\n",
        "        print(\"Battlefield\")\n",
        "\n",
        "    def whatsthis(self):\n",
        "        print(\"BF5\")\n",
        "\n",
        "    def fire(self):\n",
        "        print(\"gunshot sound\")\n"
      ],
      "metadata": {
        "id": "8rnVZ1Nu26MY"
      },
      "execution_count": null,
      "outputs": []
    },
    {
      "cell_type": "code",
      "source": [
        "X = Xbox()\n",
        "\n",
        "X.whatsthis()\n",
        "\n",
        "X.game()\n",
        "\n",
        "X.fire()"
      ],
      "metadata": {
        "colab": {
          "base_uri": "https://localhost:8080/"
        },
        "id": "-YpPEzMV44ZO",
        "outputId": "b49917b0-73a7-4df3-afc4-a9c6ce7864b3"
      },
      "execution_count": null,
      "outputs": [
        {
          "output_type": "stream",
          "name": "stdout",
          "text": [
            "Game on Cloud\n",
            "Battlefield\n",
            "xbox\n",
            "halo infinite\n",
            "gunshot sound\n"
          ]
        }
      ]
    },
    {
      "cell_type": "markdown",
      "source": [
        "\n",
        "**Polymorphism**\n",
        "\n",
        "We've learned that while functions can take in different arguments, methods belong to the objects they act on. \n",
        "In Python, polymorphism refers to the way in which different object classes can share the same method name, and those methods \n",
        "can be called from the same place even though a variety of different objects might be passed in. The best way to explain this is by example:\n"
      ],
      "metadata": {
        "id": "WGe7VL7L5OXT"
      }
    },
    {
      "cell_type": "code",
      "source": [
        "\n",
        "class XboxGames:\n",
        "    def __init__(self,editiion):\n",
        "        self.edition = editiion\n",
        "\n",
        "halo = XboxGames('Definitive edition4')        \n",
        "ori = XboxGames('Blind forest')\n"
      ],
      "metadata": {
        "id": "gdYvCHwl9v3t"
      },
      "execution_count": null,
      "outputs": []
    },
    {
      "cell_type": "code",
      "source": [
        "print(halo.edition)"
      ],
      "metadata": {
        "colab": {
          "base_uri": "https://localhost:8080/"
        },
        "id": "t5_ZIfZH-QVN",
        "outputId": "acec9d2d-692a-4ecb-ce9c-8484cf4014a8"
      },
      "execution_count": null,
      "outputs": [
        {
          "output_type": "stream",
          "name": "stdout",
          "text": [
            "Definitive edition4\n"
          ]
        }
      ]
    },
    {
      "cell_type": "code",
      "source": [
        "class Hospital:\n",
        "    def __init__(self,Doctor):\n",
        "        self.name = Doctor\n",
        "\n",
        "   # def speak(self):\n",
        "    #    return self.name+' says Come in!'\n",
        "    \n",
        "#class Pharmacy:\n",
        " #   def __init__(self, Pharmacist):\n",
        "  #      self.name = Pharmacist\n",
        "\n",
        "   # def speak(self):\n",
        "    #    return self.name+' says this medicine!' \n",
        "MedicalCentre = Hospital('MedicalCentrePark')\n",
        "#Jones = Pharmacy('Felix')\n",
        "\n",
        "#print(MedicalCentre.speak())\n",
        "#print(Jones.speak())\n",
        "\n",
        "print(MedicalCentre.name)\n"
      ],
      "metadata": {
        "id": "YcNewFg6UJQ9"
      },
      "execution_count": null,
      "outputs": []
    },
    {
      "cell_type": "code",
      "source": [
        "class Hospital:\n",
        "    def __init__(self,Doctor):\n",
        "        self.name = Doctor\n",
        "\n",
        "    def speak(self):\n",
        "        return self.name+' says Come in!'\n",
        "    \n",
        "class Pharmacy:\n",
        "    def __init__(self, Pharmacist):\n",
        "        self.name = Pharmacist\n",
        "\n",
        "    def speak(self):\n",
        "        return self.name+' says this medicine!' \n",
        "MedicalCentre = Hospital('MedicalCentrePark')\n",
        "Jones = Pharmacy('Pharmacist')\n",
        "\n",
        "print(MedicalCentre.speak())\n",
        "print(Jones.speak())\n",
        "\n",
        "print(MedicalCentre.name)\n"
      ],
      "metadata": {
        "id": "Pmz_N5aLRXjj",
        "colab": {
          "base_uri": "https://localhost:8080/"
        },
        "outputId": "c1d24a5f-7a39-4596-ad1b-11bbecf0c5db"
      },
      "execution_count": 6,
      "outputs": [
        {
          "output_type": "stream",
          "name": "stdout",
          "text": [
            "MedicalCentrePark says Come in!\n",
            "Pharmacist says this medicine!\n",
            "MedicalCentrePark\n"
          ]
        }
      ]
    },
    {
      "cell_type": "markdown",
      "source": [
        "Here we have a Hospital class and a Pharmacy class, and each has a .speak() method. \n",
        "When called, each object's .speak() method returns a result unique to the object.\n"
      ],
      "metadata": {
        "id": "ivTHEPRgUS7f"
      }
    },
    {
      "cell_type": "code",
      "source": [
        "# There a few different ways to demonstrate polymorphism. \n",
        "# First, with a for loop:\n",
        "\n",
        "for a in [MedicalCentre,Jones]:\n",
        "    print(a.speak())"
      ],
      "metadata": {
        "colab": {
          "base_uri": "https://localhost:8080/"
        },
        "id": "uXVXWc_BUl-9",
        "outputId": "d3d91367-e3f8-4cb7-8d3e-f39006b8c6c8"
      },
      "execution_count": 7,
      "outputs": [
        {
          "output_type": "stream",
          "name": "stdout",
          "text": [
            "MedicalCentrePark says Come in!\n",
            "Pharmacist says this medicine!\n"
          ]
        }
      ]
    },
    {
      "cell_type": "markdown",
      "source": [
        "Another is with functions:"
      ],
      "metadata": {
        "id": "wmSRs_uiVXGq"
      }
    },
    {
      "cell_type": "code",
      "source": [
        "def a_speak(a):\n",
        "    print(a.speak())"
      ],
      "metadata": {
        "id": "B_HEzBWeV2dN"
      },
      "execution_count": 8,
      "outputs": []
    },
    {
      "cell_type": "code",
      "source": [
        "a_speak(MedicalCentre)\n",
        "a_speak(Jones)"
      ],
      "metadata": {
        "colab": {
          "base_uri": "https://localhost:8080/"
        },
        "id": "dIfk_X1rV5dn",
        "outputId": "080e1c54-23f0-4cf3-b121-0f5fb2615c2d"
      },
      "execution_count": 9,
      "outputs": [
        {
          "output_type": "stream",
          "name": "stdout",
          "text": [
            "MedicalCentrePark says Come in!\n",
            "Pharmacist says this medicine!\n"
          ]
        }
      ]
    },
    {
      "cell_type": "markdown",
      "source": [
        "In both cases we were able to pass in different object types, and we obtained \n",
        "object-specific results from the same mechanism.\n",
        "\n",
        "A more common practice is to use abstract classes and inheritance."
      ],
      "metadata": {
        "id": "wiHq2BECYSMg"
      }
    },
    {
      "cell_type": "markdown",
      "source": [
        "An abstract class is one that never expects \n",
        "to be instantiated. For example, we will never have an Animal object,\n",
        "only Dog and Cat objects, although Dogs and Cats are derived from Animals:"
      ],
      "metadata": {
        "id": "UWtuunY5YlQ1"
      }
    },
    {
      "cell_type": "code",
      "source": [
        "class Animal:\n",
        "    def __init__(self, name):    # Constructor of the class\n",
        "        self.name = name\n",
        "\n",
        "    def speak(self):              # Abstract method, defined by convention only\n",
        "        raise NotImplementedError(\"Subclass must implement abstract method\")\n",
        "\n",
        "\n",
        "class Dog(Animal):\n",
        "    \n",
        "    def speak(self):\n",
        "        return self.name+' says Woof!'\n",
        "    \n",
        "class Cat(Animal):\n",
        "\n",
        "    def speak(self):\n",
        "        return self.name+' says Meow!'\n",
        "    \n",
        "fido = Dog('Fido')\n",
        "isis = Cat('Isis')\n",
        "\n",
        "print(fido.speak())\n",
        "print(isis.speak())\n",
        "\n"
      ],
      "metadata": {
        "id": "qdXbUKQr5fxU",
        "colab": {
          "base_uri": "https://localhost:8080/"
        },
        "outputId": "f3752141-45b4-46ed-9553-832b550298f3"
      },
      "execution_count": 10,
      "outputs": [
        {
          "output_type": "stream",
          "name": "stdout",
          "text": [
            "Fido says Woof!\n",
            "Isis says Meow!\n"
          ]
        }
      ]
    },
    {
      "cell_type": "code",
      "source": [
        ""
      ],
      "metadata": {
        "id": "Umnxoe_HZcio"
      },
      "execution_count": null,
      "outputs": []
    },
    {
      "cell_type": "markdown",
      "source": [
        "Real life examples of polymorphism include:\n",
        "\n",
        "opening different file types - different tools are needed to display Word, pdf and Excel files\n",
        "adding different objects - the + operator performs arithmetic and concatenation\n",
        "\n"
      ],
      "metadata": {
        "id": "RhoYKdjPZc2k"
      }
    },
    {
      "cell_type": "markdown",
      "source": [
        "\n",
        "**Special Methods**\n",
        "\n",
        "Finally let's go over special methods. Classes in Python can implement certain operations with special method names. \n",
        "These methods are not actually called directly but by Python specific language syntax. \n",
        "For example let's create a Book class:\n"
      ],
      "metadata": {
        "id": "FUAqVLoqZQdJ"
      }
    },
    {
      "cell_type": "code",
      "source": [
        "class Book:\n",
        "    def __init__(self, turtle, author, pages):\n",
        "        print(\"A book is created\")\n",
        "        self.title = turtle\n",
        "        self.author = author\n",
        "        self.pages = pages\n",
        "\n",
        "    def __str__(self):\n",
        "        return \"Title: %s, author: %s, pages: %s\" %(self.title, self.author, self.pages)\n",
        "\n",
        "    def __len__(self):\n",
        "        return self.pages\n",
        "\n",
        "    def __del__(self):\n",
        "        print(\"A book is destroyed\")\n",
        "book = Book(\"Python Rocks!\", \"Jose Portilla\", 159)\n"
      ],
      "metadata": {
        "colab": {
          "base_uri": "https://localhost:8080/"
        },
        "id": "91y-4DDyUrBU",
        "outputId": "5a4b7904-5955-4149-d9a7-f83c5b0458fc"
      },
      "execution_count": 11,
      "outputs": [
        {
          "output_type": "stream",
          "name": "stdout",
          "text": [
            "A book is created\n"
          ]
        }
      ]
    },
    {
      "cell_type": "code",
      "source": [
        "#Special Methods\n",
        "print(book)\n",
        "print(len(book))\n",
        "del book\n",
        "\n"
      ],
      "metadata": {
        "colab": {
          "base_uri": "https://localhost:8080/"
        },
        "id": "lgwnKRBtZVyH",
        "outputId": "785ea07b-08ba-4f53-af51-af7e4c40a291"
      },
      "execution_count": 12,
      "outputs": [
        {
          "output_type": "stream",
          "name": "stdout",
          "text": [
            "Title: Python Rocks!, author: Jose Portilla, pages: 159\n",
            "159\n",
            "A book is destroyed\n"
          ]
        }
      ]
    },
    {
      "cell_type": "code",
      "source": [
        ""
      ],
      "metadata": {
        "id": "p8dEdVS01frL"
      },
      "execution_count": null,
      "outputs": []
    }
  ],
  "metadata": {
    "colab": {
      "collapsed_sections": [],
      "name": "PYTHONN CLASS.ipynb",
      "provenance": []
    },
    "kernelspec": {
      "display_name": "Python 3",
      "name": "python3"
    }
  },
  "nbformat": 4,
  "nbformat_minor": 0
}