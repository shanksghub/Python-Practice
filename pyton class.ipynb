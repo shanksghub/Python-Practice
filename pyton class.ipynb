{
  "cells": [
    {
      "cell_type": "code",
      "source": [
        ""
      ],
      "metadata": {
        "id": "XTT_educ1ftd"
      },
      "execution_count": null,
      "outputs": []
    },
    {
      "cell_type": "markdown",
      "source": [
        "Object oriented programming is on of the more complicated parts of learning Python"
      ],
      "metadata": {
        "id": "wYzKNjmiBst-"
      }
    },
    {
      "cell_type": "markdown",
      "source": [
        "Creating our own Object types\n"
      ],
      "metadata": {
        "id": "mpMo7_DtCYOq"
      }
    },
    {
      "cell_type": "code",
      "source": [
        "# class\n",
        "# class keywords helps us create user defined objects.\n",
        "# The class is a blueprint that defines the nature of a future object. From classes we can construct \n",
        "# instances. \n",
        "# Instances are specific objects created from a specific class.\n",
        "\n",
        "# example of class\n",
        "# create object type called exampe\n",
        "class Example:\n",
        "    pass\n",
        "\n",
        "# Instance of example\n",
        "x = Example()\n"
      ],
      "metadata": {
        "id": "7t9ApwpEGMMh"
      },
      "execution_count": 1,
      "outputs": []
    },
    {
      "cell_type": "code",
      "source": [
        "x"
      ],
      "metadata": {
        "id": "n46qZcfdGS9M",
        "outputId": "9742e312-e585-45e8-99f9-b2d3f0442a4a",
        "colab": {
          "base_uri": "https://localhost:8080/"
        }
      },
      "execution_count": 2,
      "outputs": [
        {
          "output_type": "execute_result",
          "data": {
            "text/plain": [
              "<__main__.example at 0x7f0ed3dad650>"
            ]
          },
          "metadata": {},
          "execution_count": 2
        }
      ]
    },
    {
      "cell_type": "code",
      "source": [
        "print(type(x))"
      ],
      "metadata": {
        "id": "VJkQbfgPGTvD",
        "outputId": "fc477549-481f-4ae0-b404-e229c2799dd9",
        "colab": {
          "base_uri": "https://localhost:8080/"
        }
      },
      "execution_count": 3,
      "outputs": [
        {
          "output_type": "stream",
          "name": "stdout",
          "text": [
            "<class '__main__.example'>\n"
          ]
        }
      ]
    },
    {
      "cell_type": "markdown",
      "source": [
        "Conventionally classes are named with first letter starting \n",
        "from a capital letter. \n",
        "x above refers to thenew instance of Example class. \n",
        "We instantiated the Example class.\n"
      ],
      "metadata": {
        "id": "32K3WmXSG8Qx"
      }
    },
    {
      "cell_type": "markdown",
      "source": [
        "Rather than just having pass inside class \n",
        "we can defined class attributes and methods.\n",
        "\n",
        "An attribute is a characteristic of an object. \n",
        "A method is an operation we can perform with the object."
      ],
      "metadata": {
        "id": "lHFEbxBOHZYa"
      }
    },
    {
      "cell_type": "markdown",
      "source": [
        "For example, we can create a class called XboxGames. \n",
        "An attribute of a XboxGames may be its edition or its Developer,\n",
        "while a method of a XboxGames may be defined by a .version() method\n",
        "which returns its version.\n",
        "\n",
        "Understanding attributes through examples\n",
        "Attributes"
      ],
      "metadata": {
        "id": "5XlZgEtnJIaE"
      }
    },
    {
      "cell_type": "code",
      "source": [
        "# The syntax for creating an attribute is:\n",
        "\n",
        "# self.attribute = someinfo\n",
        "\n",
        "# __init__ is a special method which initializes attributes of an object:\n",
        "# __init__()\n",
        "\n",
        "class XboxGames:\n",
        "    def __init__(self,editiion):\n",
        "        self.edition = editiion\n",
        "\n",
        "halo = XboxGames(editiion = 'Definitive edition')        \n",
        "ori = XboxGames(editiion = 'Blind forest')\n",
        "\n",
        "# Lets see what's happening. when we use the special method __init__ we get: \n",
        "\n",
        "# __init__() \n",
        "# is called automatically right after the object has been created:\n",
        "\n",
        "#def __init__(self, edition):\n",
        "\n",
        "# Each attribute in a class definition begins with a reference to the instance object. \n",
        "# It is by convention named self. The edition is the argument. The value is passed during the class instantiation.\n",
        "\n",
        "    #self.edition = ediotion\n"
      ],
      "metadata": {
        "id": "PgXD2K_WCYfk"
      },
      "execution_count": 18,
      "outputs": []
    },
    {
      "cell_type": "code",
      "source": [
        "# Now we have created two instances of the XboxGames class. \n",
        "# With two edition types, we can then access these attributes like this:\n",
        "\n",
        "halo.edition\n",
        "\n",
        "# Note how we don't have any parentheses after edition; this is because it is an attribute and doesn't take any arguments.\n"
      ],
      "metadata": {
        "id": "Awfix0oNO2-1",
        "outputId": "2aaf32dc-5d2f-481a-afbd-38c719fb0e58",
        "colab": {
          "base_uri": "https://localhost:8080/",
          "height": 36
        }
      },
      "execution_count": 19,
      "outputs": [
        {
          "output_type": "execute_result",
          "data": {
            "application/vnd.google.colaboratory.intrinsic+json": {
              "type": "string"
            },
            "text/plain": [
              "'Definitive edition'"
            ]
          },
          "metadata": {},
          "execution_count": 19
        }
      ]
    },
    {
      "cell_type": "code",
      "source": [
        "ori.edition\n"
      ],
      "metadata": {
        "id": "pgc2Ii3tPMBX",
        "outputId": "baa11c63-7064-4447-d176-dbeb9f7d1dbd",
        "colab": {
          "base_uri": "https://localhost:8080/",
          "height": 36
        }
      },
      "execution_count": 20,
      "outputs": [
        {
          "output_type": "execute_result",
          "data": {
            "application/vnd.google.colaboratory.intrinsic+json": {
              "type": "string"
            },
            "text/plain": [
              "'Blind forest'"
            ]
          },
          "metadata": {},
          "execution_count": 20
        }
      ]
    },
    {
      "cell_type": "code",
      "source": [
        "\n",
        "In Python there are also class object attributes. These Class Object Attributes are the same for any instance of the class. \n",
        "For example, we could create the attribute species for the Dog class. Dogs, regardless of their breed, name, or other attributes,\n",
        " will always be mammals. We apply this logic in the following manner:\n",
        "\n",
        "class Dog:\n",
        "    \n",
        "    # Class Object Attribute\n",
        "    species = 'mammal'\n",
        "    \n",
        "    def __init__(self,breed,name):\n",
        "        self.breed = breed\n",
        "        self.name = name\n",
        "sam = Dog('Lab','Sam')\n",
        "sam.name\n",
        "'Sam'\n",
        "Note that the Class Object Attribute is defined outside of any methods in the class. Also by convention, we place them first before the init.\n",
        "\n",
        "sam.species\n",
        "'mammal'\n"
      ],
      "metadata": {
        "id": "AFlRzzLRJZl5"
      },
      "execution_count": null,
      "outputs": []
    },
    {
      "cell_type": "code",
      "source": [
        "Methods\n",
        "Methods are functions defined inside the body of a class. They are used to perform operations with the attributes of our objects. Methods are a key concept of the OOP paradigm. They are essential to dividing responsibilities in programming, especially in large applications.\n",
        "\n",
        "You can basically think of methods as functions acting on an Object that take the Object itself into account through its self argument.\n",
        "\n",
        "Let's go through an example of creating a Circle class:\n",
        "\n",
        "class Circle:\n",
        "    pi = 3.14\n",
        "\n",
        "    # Circle gets instantiated with a radius (default is 1)\n",
        "    def __init__(self, radius=1):\n",
        "        self.radius = radius \n",
        "        self.area = radius * radius * Circle.pi\n",
        "\n",
        "    # Method for resetting Radius\n",
        "    def setRadius(self, new_radius):\n",
        "        self.radius = new_radius\n",
        "        self.area = new_radius * new_radius * self.pi\n",
        "\n",
        "    # Method for getting Circumference\n",
        "    def getCircumference(self):\n",
        "        return self.radius * self.pi * 2\n",
        "\n",
        "\n",
        "c = Circle()\n",
        "\n",
        "print('Radius is: ',c.radius)\n",
        "print('Area is: ',c.area)\n",
        "print('Circumference is: ',c.getCircumference())\n",
        "Radius is:  1\n",
        "Area is:  3.14\n",
        "Circumference is:  6.28\n",
        "In the __init__ method above, in order to calculate the area attribute, we had to call Circle.pi. This is because the object does not yet have its own .pi attribute, so we call the Class Object Attribute pi instead.\n",
        "In the setRadius method, however, we'll be working with an existing Circle object that does have its own pi attribute. Here we can use either Circle.pi or self.pi.\n",
        "\n",
        "Now let's change the radius and see how that affects our Circle object:\n",
        "\n",
        "c.setRadius(2)\n",
        "\n",
        "print('Radius is: ',c.radius)\n",
        "print('Area is: ',c.area)\n",
        "print('Circumference is: ',c.getCircumference())\n",
        "Radius is:  2\n",
        "Area is:  12.56\n",
        "Circumference is:  12.56\n",
        "Great! Notice how we used self. notation to reference attributes of the class within the method calls. Review how the code above works and try creating your own method.\n"
      ],
      "metadata": {
        "id": "_JXdtG47Rejf"
      },
      "execution_count": null,
      "outputs": []
    },
    {
      "cell_type": "code",
      "source": [
        "\n",
        "Inheritance\n",
        "Inheritance is a way to form new classes using classes that have already been defined. The newly formed classes are called derived classes, the classes that we derive from are called base classes. Important benefits of inheritance are code reuse and reduction of complexity of a program. The derived classes (descendants) override or extend the functionality of base classes (ancestors).\n",
        "\n",
        "Let's see an example by incorporating our previous work on the Dog class:\n",
        "\n",
        "class Animal:\n",
        "    def __init__(self):\n",
        "        print(\"Animal created\")\n",
        "\n",
        "    def whoAmI(self):\n",
        "        print(\"Animal\")\n",
        "\n",
        "    def eat(self):\n",
        "        print(\"Eating\")\n",
        "\n",
        "\n",
        "class Dog(Animal):\n",
        "    def __init__(self):\n",
        "        Animal.__init__(self)\n",
        "        print(\"Dog created\")\n",
        "\n",
        "    def whoAmI(self):\n",
        "        print(\"Dog\")\n",
        "\n",
        "    def bark(self):\n",
        "        print(\"Woof!\")\n",
        "d = Dog()\n",
        "Animal created\n",
        "Dog created\n",
        "d.whoAmI()\n",
        "Dog\n",
        "d.eat()\n",
        "Eating\n",
        "d.bark()\n",
        "Woof!\n",
        "In this example, we have two classes: Animal and Dog. The Animal is the base class, the Dog is the derived class.\n",
        "\n",
        "The derived class inherits the functionality of the base class.\n",
        "\n",
        "It is shown by the eat() method.\n",
        "The derived class modifies existing behavior of the base class.\n",
        "\n",
        "shown by the whoAmI() method.\n",
        "Finally, the derived class extends the functionality of the base class, by defining a new bark() method.\n"
      ],
      "metadata": {
        "id": "GeVwEkjgRaoI"
      },
      "execution_count": null,
      "outputs": []
    },
    {
      "cell_type": "code",
      "source": [
        "\n",
        "Polymorphism\n",
        "We've learned that while functions can take in different arguments, methods belong to the objects they act on. In Python, polymorphism refers to the way in which different object classes can share the same method name, and those methods can be called from the same place even though a variety of different objects might be passed in. The best way to explain this is by example:\n",
        "\n",
        "class Dog:\n",
        "    def __init__(self, name):\n",
        "        self.name = name\n",
        "\n",
        "    def speak(self):\n",
        "        return self.name+' says Woof!'\n",
        "    \n",
        "class Cat:\n",
        "    def __init__(self, name):\n",
        "        self.name = name\n",
        "\n",
        "    def speak(self):\n",
        "        return self.name+' says Meow!' \n",
        "    \n",
        "niko = Dog('Niko')\n",
        "felix = Cat('Felix')\n",
        "\n",
        "print(niko.speak())\n",
        "print(felix.speak())\n",
        "Niko says Woof!\n",
        "Felix says Meow!\n",
        "Here we have a Dog class and a Cat class, and each has a .speak() method. When called, each object's .speak() method returns a result unique to the object.\n",
        "\n",
        "There a few different ways to demonstrate polymorphism. First, with a for loop:\n",
        "\n",
        "for pet in [niko,felix]:\n",
        "    print(pet.speak())\n",
        "Niko says Woof!\n",
        "Felix says Meow!\n",
        "Another is with functions:\n",
        "\n",
        "def pet_speak(pet):\n",
        "    print(pet.speak())\n",
        "\n",
        "pet_speak(niko)\n",
        "pet_speak(felix)\n",
        "Niko says Woof!\n",
        "Felix says Meow!\n",
        "In both cases we were able to pass in different object types, and we obtained object-specific results from the same mechanism.\n",
        "\n",
        "A more common practice is to use abstract classes and inheritance. An abstract class is one that never expects to be instantiated. For example, we will never have an Animal object, only Dog and Cat objects, although Dogs and Cats are derived from Animals:\n",
        "\n",
        "class Animal:\n",
        "    def __init__(self, name):    # Constructor of the class\n",
        "        self.name = name\n",
        "\n",
        "    def speak(self):              # Abstract method, defined by convention only\n",
        "        raise NotImplementedError(\"Subclass must implement abstract method\")\n",
        "\n",
        "\n",
        "class Dog(Animal):\n",
        "    \n",
        "    def speak(self):\n",
        "        return self.name+' says Woof!'\n",
        "    \n",
        "class Cat(Animal):\n",
        "\n",
        "    def speak(self):\n",
        "        return self.name+' says Meow!'\n",
        "    \n",
        "fido = Dog('Fido')\n",
        "isis = Cat('Isis')\n",
        "\n",
        "print(fido.speak())\n",
        "print(isis.speak())\n",
        "Fido says Woof!\n",
        "Isis says Meow!\n",
        "Real life examples of polymorphism include:\n",
        "\n",
        "opening different file types - different tools are needed to display Word, pdf and Excel files\n",
        "adding different objects - the + operator performs arithmetic and concatenation\n",
        "Special Methods\n",
        "Finally let's go over special methods. Classes in Python can implement certain operations with special method names. These methods are not actually called directly but by Python specific language syntax. For example let's create a Book class:\n",
        "\n",
        "class Book:\n",
        "    def __init__(self, title, author, pages):\n",
        "        print(\"A book is created\")\n",
        "        self.title = title\n",
        "        self.author = author\n",
        "        self.pages = pages\n",
        "\n",
        "    def __str__(self):\n",
        "        return \"Title: %s, author: %s, pages: %s\" %(self.title, self.author, self.pages)\n",
        "\n",
        "    def __len__(self):\n",
        "        return self.pages\n",
        "\n",
        "    def __del__(self):\n",
        "        print(\"A book is destroyed\")\n",
        "book = Book(\"Python Rocks!\", \"Jose Portilla\", 159)\n",
        "\n",
        "#Special Methods\n",
        "print(book)\n",
        "print(len(book))\n",
        "del book\n",
        "A book is created\n",
        "Title: Python Rocks!, author: Jose Portilla, pages: 159\n",
        "159\n",
        "A book is destroyed\n",
        "The __init__(), __str__(), __len__() and __del__() methods\n",
        "These special methods are defined by their use of underscores. They allow us to use Python specific functions on objects created through our class.\n",
        "\n",
        "Great! After this lecture you should have a basic understanding of how to create your own objects with class in Python. You will be utilizing this heavily in your next milestone project!\n",
        "\n",
        "For more great resources on this topic, check out:"
      ],
      "metadata": {
        "id": "Pmz_N5aLRXjj"
      },
      "execution_count": null,
      "outputs": []
    },
    {
      "cell_type": "code",
      "source": [
        ""
      ],
      "metadata": {
        "id": "p8dEdVS01frL"
      },
      "execution_count": null,
      "outputs": []
    }
  ],
  "metadata": {
    "colab": {
      "collapsed_sections": [],
      "name": "Welcome To Colaboratory",
      "toc_visible": true,
      "provenance": []
    },
    "kernelspec": {
      "display_name": "Python 3",
      "name": "python3"
    }
  },
  "nbformat": 4,
  "nbformat_minor": 0
}