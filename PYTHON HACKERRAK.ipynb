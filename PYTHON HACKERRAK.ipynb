{
  "cells": [
    {
      "cell_type": "code",
      "source": [
        "x = int(input())\n",
        "y = int(input())\n",
        "z = int(input())\n",
        "n = int(input())\n",
        "\n",
        "array = [[i,k,j] for i in range(x+1) for j in range(y+1) for k in range(z+1) if i+j+k !=n]\n",
        "print(array)"
      ],
      "metadata": {
        "id": "xR_a5FqlSwnl",
        "outputId": "4580ce06-d5fb-42f0-a3ab-0150ae2b31a5",
        "colab": {
          "base_uri": "https://localhost:8080/"
        }
      },
      "execution_count": 1,
      "outputs": [
        {
          "output_type": "stream",
          "name": "stdout",
          "text": [
            "1\n",
            "1\n",
            "2\n",
            "3\n",
            "[[0, 0, 0], [0, 1, 0], [0, 2, 0], [0, 0, 1], [0, 1, 1], [1, 0, 0], [1, 1, 0], [1, 0, 1], [1, 2, 1]]\n"
          ]
        }
      ]
    },
    {
      "cell_type": "code",
      "source": [
        "import math \n",
        "def custom_diff(a,b):\n",
        "    cdiff0 = a[0] - b[0]\n",
        "    cdiff1 = a[1] - a[1]\n",
        "    cdiff2 = a[2] - a[2]\n",
        "    return [cdiff0,cdiff1,cdiff2]\n",
        "\n",
        "def dot_product(a,b):\n",
        "    return a[0]*b[0]+a[1]*b[1]+a[2]*b[2]\n",
        "\n",
        "def abs_val(a):\n",
        "    tmp_val = a[0]*a[0]+a[1]*b[1]+a[2]*b[2]\n",
        "    return math.sqrt(tmp_val)"
      ],
      "metadata": {
        "id": "P3V9vWRIZXQu"
      },
      "execution_count": null,
      "outputs": []
    },
    {
      "cell_type": "code",
      "source": [
        "def cross(a,b):\n",
        "    c = [a[1]*b[2] - a[2]*b[1],a[2]*b[0] - a[0]*b[2],a[0]*b[1] - a[1]*b[0]]"
      ],
      "metadata": {
        "id": "dU1uSXaXc8xx"
      },
      "execution_count": 15,
      "outputs": []
    },
    {
      "cell_type": "code",
      "source": [
        "a_str_ar=input().strip().split()\n",
        "b_str_ar=input().strip().split()\n",
        "c_str_ar=input().strip().split()\n",
        "d_str_ar=input().strip().split()\n"
      ],
      "metadata": {
        "id": "UjiEg90adWte"
      },
      "execution_count": null,
      "outputs": []
    },
    {
      "cell_type": "code",
      "source": [
        "a_str_ar=input().strip().split()\n",
        "b_str_ar=input().strip().split()\n",
        "c_str_ar=input().strip().split()\n",
        "d_str_ar=input().strip().split()\n"
      ],
      "metadata": {
        "id": "PYbFXXjkep5p",
        "outputId": "74bf8c9f-dfe3-43d4-c37e-a877c92cff52",
        "colab": {
          "base_uri": "https://localhost:8080/"
        }
      },
      "execution_count": 22,
      "outputs": [
        {
          "name": "stdout",
          "output_type": "stream",
          "text": [
            " 4 5 6\n",
            "5 6 7\n",
            "5 6 7\n",
            "7 7 7\n"
          ]
        }
      ]
    },
    {
      "cell_type": "code",
      "source": [
        "a=list(map(float,a_str_ar))\n",
        "b=list(map(float,b_str_ar))\n",
        "c=list(map(float,c_str_ar))\n",
        "d=list(map(float,d_str_ar))"
      ],
      "metadata": {
        "id": "0lCKrVWgfBOZ"
      },
      "execution_count": 27,
      "outputs": []
    },
    {
      "cell_type": "code",
      "source": [
        "\n",
        "\n",
        "ab=custom_diff(b,a)\n",
        "bc=custom_diff(c,b)\n",
        "cd=custom_diff(d,c)\n",
        "\n",
        "x=cross(ab,bc)\n",
        "y=cross(bc,cd)\n",
        "       \n",
        "cosphi_top=dot_product(x,y)\n",
        "cosphi_bottom=abs_val(x)*abs_val(y)\n",
        "cosphi=cosphi_top/cosphi_bottom\n",
        "\n",
        "res=math.degrees(math.acos(cosphi))\n",
        "\n",
        "print(\"%.2f\" %res)"
      ],
      "metadata": {
        "id": "to2791u_XMZs",
        "outputId": "e3367eae-e016-4c37-ac06-a960152cd61e",
        "colab": {
          "base_uri": "https://localhost:8080/"
        }
      },
      "execution_count": 9,
      "outputs": [
        {
          "output_type": "stream",
          "name": "stdout",
          "text": [
            "0 4 5 \n",
            "1 7 6\n",
            "0 5 9\n",
            "1 7 2\n",
            "8.19\n"
          ]
        }
      ]
    }
  ],
  "metadata": {
    "colab": {
      "collapsed_sections": [],
      "name": "Welcome To Colaboratory",
      "toc_visible": true,
      "provenance": []
    },
    "kernelspec": {
      "display_name": "Python 3",
      "name": "python3"
    }
  },
  "nbformat": 4,
  "nbformat_minor": 0
}